{
 "cells": [
  {
   "cell_type": "code",
   "execution_count": 1,
   "metadata": {},
   "outputs": [],
   "source": [
    "import pandas as pd\n",
    "from evidently.dashboard import Dashboard\n",
    "from evidently.tabs import DataDriftTab,CatTargetDriftTab\n",
    "from evidently.model_profile import Profile\n",
    "from evidently.profile_sections import DataDriftProfileSection"
   ]
  },
  {
   "cell_type": "code",
   "execution_count": 4,
   "metadata": {},
   "outputs": [
    {
     "data": {
      "text/html": [
       "<div>\n",
       "<style scoped>\n",
       "    .dataframe tbody tr th:only-of-type {\n",
       "        vertical-align: middle;\n",
       "    }\n",
       "\n",
       "    .dataframe tbody tr th {\n",
       "        vertical-align: top;\n",
       "    }\n",
       "\n",
       "    .dataframe thead th {\n",
       "        text-align: right;\n",
       "    }\n",
       "</style>\n",
       "<table border=\"1\" class=\"dataframe\">\n",
       "  <thead>\n",
       "    <tr style=\"text-align: right;\">\n",
       "      <th></th>\n",
       "      <th>price</th>\n",
       "      <th>location</th>\n",
       "      <th>area</th>\n",
       "      <th>facing</th>\n",
       "      <th>no_of_bedroom</th>\n",
       "      <th>no_of_bathroom</th>\n",
       "      <th>no_of_livingroom</th>\n",
       "      <th>no_of_kitchen</th>\n",
       "      <th>parking</th>\n",
       "      <th>road_size</th>\n",
       "      <th>furniture</th>\n",
       "      <th>no_of_flat</th>\n",
       "    </tr>\n",
       "  </thead>\n",
       "  <tbody>\n",
       "    <tr>\n",
       "      <th>0</th>\n",
       "      <td>32000000.0</td>\n",
       "      <td>Shital height, Imadol</td>\n",
       "      <td>1069.53</td>\n",
       "      <td>east</td>\n",
       "      <td>5.0</td>\n",
       "      <td>4.0</td>\n",
       "      <td>2.0</td>\n",
       "      <td>3.0</td>\n",
       "      <td>4.0</td>\n",
       "      <td>13.0</td>\n",
       "      <td>semi-furnished</td>\n",
       "      <td>3.0</td>\n",
       "    </tr>\n",
       "    <tr>\n",
       "      <th>1</th>\n",
       "      <td>28000000.0</td>\n",
       "      <td>Shital Height</td>\n",
       "      <td>1026.75</td>\n",
       "      <td>west</td>\n",
       "      <td>5.0</td>\n",
       "      <td>4.0</td>\n",
       "      <td>2.0</td>\n",
       "      <td>3.5</td>\n",
       "      <td>2.0</td>\n",
       "      <td>13.0</td>\n",
       "      <td>semi-furnished</td>\n",
       "      <td>3.5</td>\n",
       "    </tr>\n",
       "    <tr>\n",
       "      <th>2</th>\n",
       "      <td>40000000.0</td>\n",
       "      <td>Shital height, Imadol</td>\n",
       "      <td>1369.00</td>\n",
       "      <td>north</td>\n",
       "      <td>6.0</td>\n",
       "      <td>4.0</td>\n",
       "      <td>2.0</td>\n",
       "      <td>2.5</td>\n",
       "      <td>4.0</td>\n",
       "      <td>13.0</td>\n",
       "      <td>fully-furnished</td>\n",
       "      <td>2.5</td>\n",
       "    </tr>\n",
       "    <tr>\n",
       "      <th>3</th>\n",
       "      <td>28000000.0</td>\n",
       "      <td>Bhaisepati</td>\n",
       "      <td>1369.00</td>\n",
       "      <td>south</td>\n",
       "      <td>6.0</td>\n",
       "      <td>3.0</td>\n",
       "      <td>2.0</td>\n",
       "      <td>2.5</td>\n",
       "      <td>4.0</td>\n",
       "      <td>16.0</td>\n",
       "      <td>fully-furnished</td>\n",
       "      <td>2.5</td>\n",
       "    </tr>\n",
       "    <tr>\n",
       "      <th>4</th>\n",
       "      <td>40000000.0</td>\n",
       "      <td>Harisiddhi</td>\n",
       "      <td>2395.75</td>\n",
       "      <td>east</td>\n",
       "      <td>6.0</td>\n",
       "      <td>4.0</td>\n",
       "      <td>2.0</td>\n",
       "      <td>2.5</td>\n",
       "      <td>4.0</td>\n",
       "      <td>13.0</td>\n",
       "      <td>fully-furnished</td>\n",
       "      <td>2.5</td>\n",
       "    </tr>\n",
       "  </tbody>\n",
       "</table>\n",
       "</div>"
      ],
      "text/plain": [
       "        price               location  ...        furniture no_of_flat\n",
       "0  32000000.0  Shital height, Imadol  ...   semi-furnished        3.0\n",
       "1  28000000.0          Shital Height  ...   semi-furnished        3.5\n",
       "2  40000000.0  Shital height, Imadol  ...  fully-furnished        2.5\n",
       "3  28000000.0             Bhaisepati  ...  fully-furnished        2.5\n",
       "4  40000000.0             Harisiddhi  ...  fully-furnished        2.5\n",
       "\n",
       "[5 rows x 12 columns]"
      ]
     },
     "execution_count": 4,
     "metadata": {},
     "output_type": "execute_result"
    }
   ],
   "source": [
    "df=pd.read_csv('nepal_hosuing_datetset.csv')\n",
    "df.head()"
   ]
  },
  {
   "cell_type": "code",
   "execution_count": 5,
   "metadata": {},
   "outputs": [
    {
     "data": {
      "text/plain": [
       "(2691, 12)"
      ]
     },
     "execution_count": 5,
     "metadata": {},
     "output_type": "execute_result"
    }
   ],
   "source": [
    "df.shape"
   ]
  },
  {
   "cell_type": "code",
   "execution_count": 10,
   "metadata": {},
   "outputs": [],
   "source": [
    "df=df.dropna()"
   ]
  },
  {
   "cell_type": "code",
   "execution_count": 11,
   "metadata": {},
   "outputs": [
    {
     "data": {
      "text/plain": [
       "(203, 12)"
      ]
     },
     "execution_count": 11,
     "metadata": {},
     "output_type": "execute_result"
    }
   ],
   "source": [
    "df.shape"
   ]
  },
  {
   "cell_type": "code",
   "execution_count": 8,
   "metadata": {},
   "outputs": [],
   "source": [
    "#data drift dashboard\n",
    "data_drift_dash=Dashboard(tabs=[DataDriftTab()])"
   ]
  },
  {
   "cell_type": "code",
   "execution_count": 12,
   "metadata": {},
   "outputs": [
    {
     "name": "stderr",
     "output_type": "stream",
     "text": [
      "d:\\Project\\nepalhousingproject\\newenv\\Lib\\site-packages\\scipy\\stats\\_stats_py.py:7334: RuntimeWarning: divide by zero encountered in divide\n",
      "  terms = (f_obs - f_exp)**2 / f_exp\n",
      "d:\\Project\\nepalhousingproject\\newenv\\Lib\\site-packages\\scipy\\stats\\_stats_py.py:7334: RuntimeWarning: divide by zero encountered in divide\n",
      "  terms = (f_obs - f_exp)**2 / f_exp\n"
     ]
    }
   ],
   "source": [
    "data_drift_dash.calculate(df[:150],df[150:])"
   ]
  },
  {
   "cell_type": "code",
   "execution_count": 13,
   "metadata": {},
   "outputs": [
    {
     "data": {
      "text/html": [
       "\n",
       "<link rel=\"stylesheet\" href=\"https://fonts.googleapis.com/icon?family=Material+Icons\"/>\n",
       "<style>\n",
       ".reset-this-parent {\n",
       "  all: initial;\n",
       "}\n",
       ".reset-this-parent h5 {\n",
       "  all: initial;\n",
       "  font: initial;\n",
       "}\n",
       "\n",
       "svg {\n",
       "  height: intrinsic !important;\n",
       "}\n",
       "</style>\n",
       "<script>\n",
       "    var evidently_dashboard_28ff6a49194d4231b7738c60390693ba = {\"name\": \"evidently_dashboard_28ff6a49194d4231b7738c60390693ba\", \"widgets\": [{\"type\": \"big_table\", \"title\": \"Drift is detected for 41.67% of features (5 out of 12). Dataset Drift is NOT detected.\", \"size\": 2, \"id\": \"dffbbce3-343c-4ce9-a20e-a1db87b1d219\", \"details\": \"\", \"alertsPosition\": \"row\", \"alertStats\": null, \"params\": {\"rowsPerPage\": 10, \"columns\": [{\"title\": \"Feature\", \"field\": \"f1\"}, {\"title\": \"Type\", \"field\": \"f6\"}, {\"title\": \"Reference Distribution\", \"field\": \"f3\", \"type\": \"histogram\", \"options\": {\"xField\": \"x\", \"yField\": \"y\", \"color\": \"#ed0400\"}}, {\"title\": \"Current Distribution\", \"field\": \"f4\", \"type\": \"histogram\", \"options\": {\"xField\": \"x\", \"yField\": \"y\", \"color\": \"#ed0400\"}}, {\"title\": \"Data Drift\", \"field\": \"f2\"}, {\"title\": \"Stat Test\", \"field\": \"stattest_name\"}, {\"title\": \"Drift Score\", \"field\": \"f5\"}], \"data\": [{\"details\": {\"parts\": [{\"title\": \"Data drift\", \"id\": \"no_of_bathroom_drift\", \"type\": \"widget\"}, {\"title\": \"Data distribution\", \"id\": \"no_of_bathroom_distr\"}], \"insights\": []}, \"f1\": \"no_of_bathroom\", \"f6\": \"num\", \"stattest_name\": \"K-S p_value\", \"f3\": {\"x\": [2.0, 2.6, 3.2, 3.8, 4.4, 5.0, 5.6, 6.2, 6.8, 7.3999999999999995, 8.0], \"y\": [0.04444444444444444, 0.39999999999999997, 0.0, 0.655555555555555, 0.0, 0.35555555555555574, 0.14444444444444432, 0.0, 0.04444444444444447, 0.022222222222222202]}, \"f4\": {\"x\": [2.0, 2.4, 2.8, 3.2, 3.6, 4.0, 4.4, 4.800000000000001, 5.2, 5.6, 6.0], \"y\": [0.14150943396226418, 0.0, 0.5188679245283014, 0.0, 0.0, 0.9905660377358482, 0.0, 0.6132075471698121, 0.0, 0.2358490566037734]}, \"f2\": \"Not Detected\", \"f5\": 0.999999}, {\"details\": {\"parts\": [{\"title\": \"Data drift\", \"id\": \"no_of_bedroom_drift\", \"type\": \"widget\"}, {\"title\": \"Data distribution\", \"id\": \"no_of_bedroom_distr\"}], \"insights\": []}, \"f1\": \"no_of_bedroom\", \"f6\": \"num\", \"stattest_name\": \"K-S p_value\", \"f3\": {\"x\": [2.0, 3.4, 4.8, 6.199999999999999, 7.6, 9.0, 10.399999999999999, 11.799999999999999, 13.2, 14.6, 16.0], \"y\": [0.01904761904761905, 0.13333333333333333, 0.4714285714285716, 0.05714285714285713, 0.014285714285714282, 0.014285714285714301, 0.0, 0.0, 0.0, 0.004761904761904761]}, \"f4\": {\"x\": [3.0, 3.5, 4.0, 4.5, 5.0, 5.5, 6.0, 6.5, 7.0, 7.5, 8.0], \"y\": [0.11320754716981132, 0.0, 0.33962264150943394, 0.0, 0.7924528301886793, 0.0, 0.5283018867924528, 0.0, 0.1509433962264151, 0.07547169811320754]}, \"f2\": \"Not Detected\", \"f5\": 0.821865}, {\"details\": {\"parts\": [{\"title\": \"Data drift\", \"id\": \"road_size_drift\", \"type\": \"widget\"}, {\"title\": \"Data distribution\", \"id\": \"road_size_distr\"}], \"insights\": []}, \"f1\": \"road_size\", \"f6\": \"num\", \"stattest_name\": \"K-S p_value\", \"f3\": {\"x\": [4.0, 6.7, 9.4, 12.100000000000001, 14.8, 17.5, 20.200000000000003, 22.900000000000002, 25.6, 28.3, 31.0], \"y\": [0.0049382716049382715, 0.0, 0.022222222222222213, 0.22716049382716055, 0.039506172839506186, 0.059259259259259206, 0.007407407407407409, 0.0, 0.007407407407407409, 0.0024691358024691366]}, \"f4\": {\"x\": [8.0, 9.8, 11.6, 13.4, 15.2, 17.0, 18.8, 20.6, 22.4, 24.2, 26.0], \"y\": [0.010482180293501045, 0.02096436058700211, 0.3773584905660376, 0.031446540880503165, 0.03144654088050313, 0.0, 0.06289308176100626, 0.0, 0.0, 0.02096436058700209]}, \"f2\": \"Not Detected\", \"f5\": 0.79239}, {\"details\": {\"parts\": [{\"title\": \"Data drift\", \"id\": \"no_of_livingroom_drift\", \"type\": \"widget\"}, {\"title\": \"Data distribution\", \"id\": \"no_of_livingroom_distr\"}], \"insights\": []}, \"f1\": \"no_of_livingroom\", \"f6\": \"num\", \"stattest_name\": \"chi-square p_value\", \"f3\": {\"x\": [0.0, 0.4, 0.8, 1.2000000000000002, 1.6, 2.0, 2.4000000000000004, 2.8000000000000003, 3.2, 3.6, 4.0], \"y\": [0.03333333333333333, 0.0, 0.6833333333333331, 0.0, 0.0, 1.5999999999999988, 0.0, 0.15000000000000002, 0.0, 0.03333333333333334]}, \"f4\": {\"x\": [1.0, 1.2, 1.4, 1.6, 1.8, 2.0, 2.2, 2.4000000000000004, 2.6, 2.8, 3.0], \"y\": [1.6037735849056607, 0.0, 0.0, 0.0, 0.0, 2.83018867924528, 0.0, 0.0, 0.0, 0.5660377358490561]}, \"f2\": \"Not Detected\", \"f5\": 0.308098}, {\"details\": {\"parts\": [{\"title\": \"Data distribution\", \"id\": \"facing_distr\"}], \"insights\": []}, \"f1\": \"facing\", \"f6\": \"cat\", \"stattest_name\": \"chi-square p_value\", \"f3\": {\"x\": [\"east\", \"east-north\", \"east-south\", \"north\", \"north-west\", \"south\", \"south-west\", \"west\"], \"y\": [32, 13, 11, 24, 6, 35, 14, 15]}, \"f4\": {\"x\": [\"east\", \"east-north\", \"east-south\", \"north\", \"north-west\", \"south\", \"south-west\", \"west\"], \"y\": [11, 3, 8, 7, 2, 14, 1, 7]}, \"f2\": \"Not Detected\", \"f5\": 0.246318}, {\"details\": {\"parts\": [{\"title\": \"Data drift\", \"id\": \"area_drift\", \"type\": \"widget\"}, {\"title\": \"Data distribution\", \"id\": \"area_distr\"}], \"insights\": []}, \"f1\": \"area\", \"f6\": \"num\", \"stattest_name\": \"K-S p_value\", \"f3\": {\"x\": [855.62, 1420.333, 1985.0459999999998, 2549.759, 3114.4719999999998, 3679.1849999999995, 4243.898, 4808.611, 5373.324, 5938.036999999999, 6502.75], \"y\": [0.0008854055068680903, 0.0005076324906043722, 0.00012985947434065323, 0.00014166488109889453, 2.3610813516482426e-05, 2.3610813516482388e-05, 1.1805406758241213e-05, 0.0, 2.3610813516482426e-05, 2.3610813516482388e-05]}, \"f4\": {\"x\": [919.79, 1289.848, 1659.906, 2029.964, 2400.022, 2770.08, 3140.138, 3510.196, 3880.254, 4250.312, 4620.37], \"y\": [0.001376632750174705, 0.0006628231760100431, 0.00030591838892771216, 5.09863981546187e-05, 0.0, 0.0001019727963092374, 0.0, 0.0001019727963092374, 0.0, 0.0001019727963092374]}, \"f2\": \"Not Detected\", \"f5\": 0.081742}, {\"details\": {\"parts\": [{\"title\": \"Data drift\", \"id\": \"price_drift\", \"type\": \"widget\"}, {\"title\": \"Data distribution\", \"id\": \"price_distr\"}], \"insights\": []}, \"f1\": \"price\", \"f6\": \"num\", \"stattest_name\": \"K-S p_value\", \"f3\": {\"x\": [9500000.0, 25550000.0, 41600000.0, 57650000.0, 73700000.0, 89750000.0, 105800000.0, 121850000.0, 137900000.0, 153950000.0, 170000000.0], \"y\": [7.476635514018692e-09, 2.949117341640706e-08, 1.3707165109034266e-08, 5.815160955347871e-09, 3.322949117341641e-09, 8.307372793354103e-10, 4.1536863966770513e-10, 8.307372793354103e-10, 0.0, 4.1536863966770513e-10]}, \"f4\": {\"x\": [17500000.0, 26750000.0, 36000000.0, 45250000.0, 54500000.0, 63750000.0, 73000000.0, 82250000.0, 91500000.0, 100750000.0, 110000000.0], \"y\": [2.6517083120856704e-08, 4.07955124936257e-08, 1.4278429372768996e-08, 1.0198878123406425e-08, 2.0397756246812853e-09, 6.119326874043855e-09, 0.0, 0.0, 6.119326874043855e-09, 2.0397756246812853e-09]}, \"f2\": \"Not Detected\", \"f5\": 0.062869}, {\"details\": {\"parts\": [{\"title\": \"Data drift\", \"id\": \"parking_drift\", \"type\": \"widget\"}, {\"title\": \"Data distribution\", \"id\": \"parking_distr\"}], \"insights\": []}, \"f1\": \"parking\", \"f6\": \"num\", \"stattest_name\": \"K-S p_value\", \"f3\": {\"x\": [1.0, 1.9, 2.8, 3.7, 4.6, 5.5, 6.4, 7.3, 8.2, 9.1, 10.0], \"y\": [0.014814814814814815, 0.03703703703703704, 0.311111111111111, 0.5555555555555559, 0.09629629629629627, 0.03703703703703702, 0.04444444444444447, 0.0, 0.0, 0.01481481481481481]}, \"f4\": {\"x\": [1.0, 1.9, 2.8, 3.7, 4.6, 5.5, 6.4, 7.3, 8.2, 9.1, 10.0], \"y\": [0.3144654088050315, 0.06289308176100629, 0.10482180293501045, 0.5031446540880506, 0.04192872117400418, 0.0, 0.02096436058700211, 0.02096436058700211, 0.0, 0.04192872117400418]}, \"f2\": \"Detected\", \"f5\": 0.001753}, {\"details\": {\"parts\": [{\"title\": \"Data drift\", \"id\": \"no_of_flat_drift\", \"type\": \"widget\"}, {\"title\": \"Data distribution\", \"id\": \"no_of_flat_distr\"}], \"insights\": []}, \"f1\": \"no_of_flat\", \"f6\": \"num\", \"stattest_name\": \"K-S p_value\", \"f3\": {\"x\": [1.0, 1.4, 1.8, 2.2, 2.6, 3.0, 3.4000000000000004, 3.8000000000000003, 4.2, 4.6, 5.0], \"y\": [0.05000000000000001, 0.01666666666666666, 0.01666666666666666, 1.1833333333333336, 0.0, 0.6999999999999993, 0.3500000000000001, 0.15000000000000002, 0.0, 0.033333333333333305]}, \"f4\": {\"x\": [2.5, 2.85, 3.2, 3.55, 3.9, 4.25, 4.6, 4.949999999999999, 5.3, 5.65, 6.0], \"y\": [0.5929919137466305, 1.6711590296495953, 0.0539083557951483, 0.0, 0.48517520215633414, 0.0, 0.0, 0.0, 0.0, 0.0539083557951483]}, \"f2\": \"Detected\", \"f5\": 0.001335}, {\"details\": {\"parts\": [{\"title\": \"Data drift\", \"id\": \"no_of_kitchen_drift\", \"type\": \"widget\"}, {\"title\": \"Data distribution\", \"id\": \"no_of_kitchen_distr\"}], \"insights\": []}, \"f1\": \"no_of_kitchen\", \"f6\": \"num\", \"stattest_name\": \"K-S p_value\", \"f3\": {\"x\": [1.0, 1.4, 1.8, 2.2, 2.6, 3.0, 3.4000000000000004, 3.8000000000000003, 4.2, 4.6, 5.0], \"y\": [0.05000000000000001, 0.01666666666666666, 0.01666666666666666, 1.1833333333333336, 0.0, 0.6999999999999993, 0.3500000000000001, 0.15000000000000002, 0.0, 0.033333333333333305]}, \"f4\": {\"x\": [2.5, 2.85, 3.2, 3.55, 3.9, 4.25, 4.6, 4.949999999999999, 5.3, 5.65, 6.0], \"y\": [0.5929919137466305, 1.6711590296495953, 0.0539083557951483, 0.0, 0.48517520215633414, 0.0, 0.0, 0.0, 0.0, 0.0539083557951483]}, \"f2\": \"Detected\", \"f5\": 0.001335}, {\"details\": {\"parts\": [{\"title\": \"Data distribution\", \"id\": \"furniture_distr\"}], \"insights\": []}, \"f1\": \"furniture\", \"f6\": \"cat\", \"stattest_name\": \"chi-square p_value\", \"f3\": {\"x\": [\"fully-furnished\", \"semi-furnished\", \"un-furnished\"], \"y\": [49, 101, 0]}, \"f4\": {\"x\": [\"fully-furnished\", \"semi-furnished\", \"un-furnished\"], \"y\": [13, 38, 2]}, \"f2\": \"Detected\", \"f5\": 0.0}, {\"details\": {\"parts\": [{\"title\": \"Data distribution\", \"id\": \"location_distr\"}], \"insights\": []}, \"f1\": \"location\", \"f6\": \"cat\", \"stattest_name\": \"chi-square p_value\", \"f3\": {\"x\": [\" Green Hill Academy and Milandhamsthali\", \" Near karuna hospital\", \"1 km from deuba chowk\", \"100 meters from Civil Home\", \"2.5 km from kalanki\", \"700 meter from Medicity hospital\", \"Bafal, Kathmandu\", \"Bajradham Colony\", \"Bakhundol, Lalitpur\", \"Balkot, Bhaktapur\", \"Balkumari\", \"Basundhara, Kathmandu\", \"Bhaisepati\", \"Bhaisepati near Mediciti Hospital\", \"Bhaisepati near Mediciti hospital\", \"Bhaisepati, Lalitpur\", \"Bhangal\", \"Bhangal height\", \"Bhangal, budhanilkantha\", \"Binayak Colony\", \"Bojepokhari, Imadol\", \"Budhanilkantha, Kathmandu\", \"Chakku Mandir House\", \"Chandragiri\", \"Cozy Home\", \"Cozy home\", \"Dallu, Kathmandu\", \"Deuba chowk, Budhanilkantha\", \"Dhalmal\", \"Dhapakhel \", \"Dhapakhel Height\", \"Dhapakhel, lalitpur\", \"Dholahiti Lalitpur\", \"Dholahiti, Lalitpur\", \"Dhumbarahi\", \"Dreamz Homez Colony\", \"Gadatantra chowk , Saraswotinagar \", \"Gairigaun,  Duidhara\", \"Ganesh Chowk\", \"Green Hill City\", \"Halchowk, Single Tree\", \"Harisiddhi\", \"Hattiban Housing\", \"Hattiban, Lalitpur\", \"Hattigauda\", \"Hattigauda, Budhanilkantha\", \"Hepali Height\", \"Hepali Heights\", \"Imadol\", \"Imadol Tempo Park\", \"Imadol, Krishna Mandir\", \"Imadol, Lalitpur\", \"Imadol, lalitpur\", \"Ishan Colony\", \"Italitar, Budhanilkantha\", \"Itumbahal,Yatkha \", \"Jala binayak colony\", \"Kalanki, Syuchatar \", \"Kalanki, kathmandu\", \"Kathmandu ,Dhumbarai-4,Near pipal bot chowk.\", \"Khadka Gau\", \"Khadka gaun\", \"Kritipur, Kathmandu\", \"Lasuntar\", \"Lasuntar, kapan\", \"Lubhu, Lalitpur\", \"Mahalaxmi\", \"Mahalaxmisthan, Lagankhel\", \"Manjurshree tole, bhaisepati\", \"Manmohan hospital\", \"Mantri Marga\", \"Mulpani\", \"Naikap, Basantatol \", \"Nakkhipot\", \"Nakkhu\", \"Namgyal Chowk\", \"Naya Basti\", \"Near Down Town Residency\", \"Near Ganesh chowk\", \"Near LRI\", \"Near LRI School\", \"Near Talim Kendra\", \"Near Triton college\", \"Near karuna hospital \", \"Near to CG Lakeview Housing\", \"Ochu Height\", \"Ochu Height, Imadol\", \"Ochu height, Imadol\", \"PASIKOT \", \"Padma Colony\", \"Paiyutar\", \"Pasikot, Budhanilkantha\", \"Pasikot, budhanilkantha\", \"Pragati Colony\", \"Radha krishna mandir\", \"Rajkulo, Imadol\", \"Raniban, Kathmandu\", \"Rumba Chwok\", \"Samakhushi\", \"Sanagau, Lalitpur\", \"Sanagaun, Lalitpur\", \"Sanagaun, lalitpur\", \"Sanepa Chowk\", \"Sanepa, lalitpur\", \"Sano bharyang\", \"Sano bharyang Colony\", \"Sano bharyang Colony,Ward no.2\", \"Sanobharyang\", \"Satungal\", \"Setipakha\", \"Shankhamul\", \"Shital Height\", \"Shital Height, Imadol\", \"Shital height, Imadol\", \"Simchaphat,Gurjudhara \", \"Sitapaila, Kathmandu\", \"Sitapaila,Comfort housing\", \"Sudal\", \"Sudarsan Height\", \"Sukedhara\", \"Sunrise Height, Raniban\", \"Swoyambhu, Karkhana Chowk\", \"Syuchatar\", \"Taukhel, Ramkot\", \"Tej Binayak\", \"Tempo park\", \"Thankot, kathmandu\", \"Thapagaun\", \"Tikathali, Lalitpur\", \"Tikathali, lalitpur\", \"Tinthana\", \"Veenas residency\", \"Yellow Gumba\", \"chappal karkhana\", \"near Bhatbhateni\", \"pasikot\"], \"y\": [0, 1, 0, 0, 0, 0, 2, 1, 1, 1, 0, 1, 7, 0, 0, 3, 2, 1, 1, 1, 1, 7, 1, 0, 1, 1, 1, 0, 1, 1, 1, 0, 2, 1, 1, 1, 1, 1, 1, 1, 0, 1, 1, 0, 1, 2, 1, 1, 5, 0, 1, 3, 1, 0, 1, 1, 2, 1, 0, 0, 1, 1, 1, 1, 1, 1, 0, 1, 0, 1, 1, 1, 0, 1, 1, 0, 1, 1, 2, 0, 2, 1, 0, 1, 1, 2, 0, 0, 1, 1, 1, 2, 0, 1, 0, 0, 1, 0, 1, 0, 2, 0, 0, 0, 1, 0, 0, 2, 1, 2, 1, 5, 0, 13, 1, 3, 0, 1, 1, 1, 0, 1, 1, 1, 1, 1, 0, 1, 8, 0, 1, 1, 0, 1, 0, 0]}, \"f4\": {\"x\": [\" Green Hill Academy and Milandhamsthali\", \" Near karuna hospital\", \"1 km from deuba chowk\", \"100 meters from Civil Home\", \"2.5 km from kalanki\", \"700 meter from Medicity hospital\", \"Bafal, Kathmandu\", \"Bajradham Colony\", \"Bakhundol, Lalitpur\", \"Balkot, Bhaktapur\", \"Balkumari\", \"Basundhara, Kathmandu\", \"Bhaisepati\", \"Bhaisepati near Mediciti Hospital\", \"Bhaisepati near Mediciti hospital\", \"Bhaisepati, Lalitpur\", \"Bhangal\", \"Bhangal height\", \"Bhangal, budhanilkantha\", \"Binayak Colony\", \"Bojepokhari, Imadol\", \"Budhanilkantha, Kathmandu\", \"Chakku Mandir House\", \"Chandragiri\", \"Cozy Home\", \"Cozy home\", \"Dallu, Kathmandu\", \"Deuba chowk, Budhanilkantha\", \"Dhalmal\", \"Dhapakhel \", \"Dhapakhel Height\", \"Dhapakhel, lalitpur\", \"Dholahiti Lalitpur\", \"Dholahiti, Lalitpur\", \"Dhumbarahi\", \"Dreamz Homez Colony\", \"Gadatantra chowk , Saraswotinagar \", \"Gairigaun,  Duidhara\", \"Ganesh Chowk\", \"Green Hill City\", \"Halchowk, Single Tree\", \"Harisiddhi\", \"Hattiban Housing\", \"Hattiban, Lalitpur\", \"Hattigauda\", \"Hattigauda, Budhanilkantha\", \"Hepali Height\", \"Hepali Heights\", \"Imadol\", \"Imadol Tempo Park\", \"Imadol, Krishna Mandir\", \"Imadol, Lalitpur\", \"Imadol, lalitpur\", \"Ishan Colony\", \"Italitar, Budhanilkantha\", \"Itumbahal,Yatkha \", \"Jala binayak colony\", \"Kalanki, Syuchatar \", \"Kalanki, kathmandu\", \"Kathmandu ,Dhumbarai-4,Near pipal bot chowk.\", \"Khadka Gau\", \"Khadka gaun\", \"Kritipur, Kathmandu\", \"Lasuntar\", \"Lasuntar, kapan\", \"Lubhu, Lalitpur\", \"Mahalaxmi\", \"Mahalaxmisthan, Lagankhel\", \"Manjurshree tole, bhaisepati\", \"Manmohan hospital\", \"Mantri Marga\", \"Mulpani\", \"Naikap, Basantatol \", \"Nakkhipot\", \"Nakkhu\", \"Namgyal Chowk\", \"Naya Basti\", \"Near Down Town Residency\", \"Near Ganesh chowk\", \"Near LRI\", \"Near LRI School\", \"Near Talim Kendra\", \"Near Triton college\", \"Near karuna hospital \", \"Near to CG Lakeview Housing\", \"Ochu Height\", \"Ochu Height, Imadol\", \"Ochu height, Imadol\", \"PASIKOT \", \"Padma Colony\", \"Paiyutar\", \"Pasikot, Budhanilkantha\", \"Pasikot, budhanilkantha\", \"Pragati Colony\", \"Radha krishna mandir\", \"Rajkulo, Imadol\", \"Raniban, Kathmandu\", \"Rumba Chwok\", \"Samakhushi\", \"Sanagau, Lalitpur\", \"Sanagaun, Lalitpur\", \"Sanagaun, lalitpur\", \"Sanepa Chowk\", \"Sanepa, lalitpur\", \"Sano bharyang\", \"Sano bharyang Colony\", \"Sano bharyang Colony,Ward no.2\", \"Sanobharyang\", \"Satungal\", \"Setipakha\", \"Shankhamul\", \"Shital Height\", \"Shital Height, Imadol\", \"Shital height, Imadol\", \"Simchaphat,Gurjudhara \", \"Sitapaila, Kathmandu\", \"Sitapaila,Comfort housing\", \"Sudal\", \"Sudarsan Height\", \"Sukedhara\", \"Sunrise Height, Raniban\", \"Swoyambhu, Karkhana Chowk\", \"Syuchatar\", \"Taukhel, Ramkot\", \"Tej Binayak\", \"Tempo park\", \"Thankot, kathmandu\", \"Thapagaun\", \"Tikathali, Lalitpur\", \"Tikathali, lalitpur\", \"Tinthana\", \"Veenas residency\", \"Yellow Gumba\", \"chappal karkhana\", \"near Bhatbhateni\", \"pasikot\"], \"y\": [1, 0, 1, 1, 1, 1, 0, 0, 0, 0, 1, 0, 0, 1, 1, 0, 0, 0, 0, 0, 0, 0, 0, 1, 0, 0, 0, 1, 0, 0, 0, 1, 0, 0, 0, 0, 0, 0, 0, 0, 1, 0, 0, 1, 0, 0, 0, 0, 0, 1, 0, 0, 0, 1, 0, 0, 0, 0, 1, 1, 0, 0, 0, 0, 0, 0, 1, 0, 1, 0, 0, 0, 1, 0, 0, 1, 0, 0, 0, 1, 0, 0, 1, 0, 0, 2, 1, 1, 0, 0, 0, 0, 1, 0, 1, 3, 0, 1, 0, 1, 2, 1, 1, 1, 0, 1, 1, 0, 0, 0, 0, 0, 1, 1, 0, 0, 1, 0, 0, 0, 1, 0, 0, 0, 0, 0, 1, 0, 3, 1, 0, 0, 1, 0, 1, 1]}, \"f2\": \"Detected\", \"f5\": 0.0}]}, \"insights\": [], \"alerts\": [], \"tabs\": [], \"widgets\": [], \"pageSize\": 5}]};\n",
       "    var additional_graphs_evidently_dashboard_28ff6a49194d4231b7738c60390693ba = {\"no_of_bathroom_distr\": {\"data\": [{\"histnorm\": \"probability\", \"marker\": {\"color\": \"#4d4d4d\"}, \"name\": \"Reference\", \"nbinsx\": 10, \"opacity\": 0.6, \"x\": [4.0, 4.0, 4.0, 3.0, 4.0, 4.0, 5.0, 4.0, 5.0, 4.0, 4.0, 5.0, 4.0, 4.0, 5.0, 3.0, 7.0, 6.0, 5.0, 5.0, 4.0, 4.0, 5.0, 4.0, 3.0, 3.0, 4.0, 4.0, 4.0, 4.0, 4.0, 4.0, 3.0, 3.0, 3.0, 4.0, 4.0, 5.0, 5.0, 4.0, 6.0, 5.0, 5.0, 3.0, 3.0, 3.0, 2.0, 3.0, 3.0, 5.0, 4.0, 3.0, 4.0, 4.0, 3.0, 3.0, 4.0, 3.0, 4.0, 4.0, 5.0, 3.0, 2.0, 3.0, 5.0, 6.0, 4.0, 8.0, 7.0, 4.0, 4.0, 5.0, 3.0, 3.0, 4.0, 5.0, 3.0, 4.0, 6.0, 4.0, 7.0, 4.0, 5.0, 7.0, 3.0, 4.0, 4.0, 5.0, 3.0, 3.0, 4.0, 4.0, 3.0, 5.0, 5.0, 3.0, 5.0, 4.0, 4.0, 3.0, 2.0, 4.0, 4.0, 4.0, 3.0, 4.0, 6.0, 4.0, 5.0, 8.0, 4.0, 3.0, 4.0, 5.0, 5.0, 4.0, 4.0, 4.0, 6.0, 3.0, 6.0, 6.0, 5.0, 5.0, 4.0, 5.0, 4.0, 3.0, 5.0, 4.0, 4.0, 4.0, 4.0, 6.0, 5.0, 6.0, 5.0, 3.0, 5.0, 6.0, 5.0, 6.0, 3.0, 6.0, 3.0, 4.0, 2.0, 4.0, 3.0, 3.0], \"type\": \"histogram\"}, {\"histnorm\": \"probability\", \"marker\": {\"color\": \"#ed0400\"}, \"name\": \"Current\", \"nbinsx\": 10, \"opacity\": 0.6, \"x\": [3.0, 3.0, 4.0, 3.0, 3.0, 4.0, 4.0, 2.0, 4.0, 3.0, 4.0, 4.0, 4.0, 4.0, 3.0, 6.0, 4.0, 5.0, 3.0, 5.0, 2.0, 4.0, 6.0, 5.0, 3.0, 5.0, 3.0, 4.0, 4.0, 5.0, 6.0, 4.0, 6.0, 4.0, 5.0, 4.0, 4.0, 4.0, 5.0, 4.0, 4.0, 4.0, 2.0, 4.0, 5.0, 5.0, 3.0, 5.0, 6.0, 5.0, 5.0, 5.0, 3.0], \"type\": \"histogram\"}], \"layout\": {\"legend\": {\"orientation\": \"h\", \"yanchor\": \"bottom\", \"y\": 1.02, \"xanchor\": \"right\", \"x\": 1}, \"xaxis\": {\"title\": {\"text\": \"no_of_bathroom\"}}, \"yaxis\": {\"title\": {\"text\": \"Share\"}}}}, \"no_of_bathroom_drift\": {\"title\": \"\", \"size\": 2, \"text\": \"\", \"type\": \"big_graph\", \"params\": {\"data\": [{\"marker\": {\"color\": \"#ed0400\", \"size\": 6}, \"mode\": \"markers\", \"name\": \"Current\", \"x\": [150, 151, 152, 153, 154, 155, 156, 157, 158, 159, 160, 161, 162, 163, 164, 165, 166, 167, 168, 169, 170, 171, 172, 173, 174, 175, 176, 177, 178, 179, 180, 181, 182, 183, 184, 185, 186, 187, 188, 189, 190, 191, 192, 193, 194, 195, 196, 197, 198, 199, 200, 201, 202], \"y\": [3.0, 3.0, 4.0, 3.0, 3.0, 4.0, 4.0, 2.0, 4.0, 3.0, 4.0, 4.0, 4.0, 4.0, 3.0, 6.0, 4.0, 5.0, 3.0, 5.0, 2.0, 4.0, 6.0, 5.0, 3.0, 5.0, 3.0, 4.0, 4.0, 5.0, 6.0, 4.0, 6.0, 4.0, 5.0, 4.0, 4.0, 4.0, 5.0, 4.0, 4.0, 4.0, 2.0, 4.0, 5.0, 5.0, 3.0, 5.0, 6.0, 5.0, 5.0, 5.0, 3.0], \"type\": \"scattergl\"}, {\"marker\": {\"color\": \"white\", \"opacity\": 0.005, \"size\": 0.01}, \"mode\": \"markers\", \"name\": \"Current\", \"showlegend\": false, \"x\": [151, 151], \"y\": [3.078884055846907, 5.374449277486426], \"type\": \"scattergl\"}], \"layout\": {\"legend\": {\"orientation\": \"h\", \"yanchor\": \"bottom\", \"y\": 1.02, \"xanchor\": \"right\", \"x\": 1}, \"xaxis\": {\"title\": {\"text\": \"Index\"}}, \"yaxis\": {\"title\": {\"text\": \"no_of_bathroom\"}}, \"showlegend\": true, \"shapes\": [{\"fillcolor\": \"LightGreen\", \"layer\": \"below\", \"opacity\": 0.5, \"type\": \"rect\", \"x0\": 0, \"x1\": 1, \"xref\": \"paper\", \"y0\": 3.078884055846907, \"y1\": 5.374449277486426, \"yref\": \"y\", \"line\": {\"width\": 0}}, {\"line\": {\"color\": \"green\", \"width\": 3}, \"name\": \"Reference\", \"type\": \"line\", \"x0\": 0, \"x1\": 1, \"xref\": \"paper\", \"y0\": 4.226666666666667, \"y1\": 4.226666666666667, \"yref\": \"y\"}]}}}, \"no_of_bedroom_distr\": {\"data\": [{\"histnorm\": \"probability\", \"marker\": {\"color\": \"#4d4d4d\"}, \"name\": \"Reference\", \"nbinsx\": 10, \"opacity\": 0.6, \"x\": [5.0, 5.0, 6.0, 6.0, 6.0, 6.0, 6.0, 6.0, 6.0, 6.0, 6.0, 6.0, 4.0, 4.0, 7.0, 5.0, 10.0, 8.0, 7.0, 7.0, 4.0, 5.0, 6.0, 6.0, 4.0, 5.0, 16.0, 6.0, 6.0, 6.0, 6.0, 6.0, 5.0, 5.0, 4.0, 5.0, 6.0, 5.0, 4.0, 6.0, 5.0, 6.0, 6.0, 5.0, 4.0, 5.0, 2.0, 5.0, 5.0, 5.0, 6.0, 5.0, 6.0, 6.0, 5.0, 5.0, 5.0, 4.0, 5.0, 4.0, 6.0, 6.0, 3.0, 8.0, 7.0, 6.0, 5.0, 7.0, 7.0, 4.0, 4.0, 6.0, 4.0, 6.0, 5.0, 5.0, 5.0, 4.0, 6.0, 4.0, 6.0, 8.0, 6.0, 9.0, 5.0, 5.0, 4.0, 7.0, 4.0, 4.0, 5.0, 4.0, 5.0, 6.0, 6.0, 4.0, 6.0, 6.0, 5.0, 4.0, 4.0, 5.0, 5.0, 4.0, 3.0, 5.0, 6.0, 5.0, 6.0, 5.0, 6.0, 6.0, 5.0, 5.0, 6.0, 6.0, 6.0, 5.0, 7.0, 4.0, 5.0, 5.0, 6.0, 5.0, 6.0, 4.0, 6.0, 6.0, 6.0, 4.0, 7.0, 5.0, 5.0, 4.0, 5.0, 5.0, 5.0, 6.0, 7.0, 4.0, 7.0, 7.0, 5.0, 10.0, 6.0, 6.0, 2.0, 5.0, 6.0, 4.0], \"type\": \"histogram\"}, {\"histnorm\": \"probability\", \"marker\": {\"color\": \"#ed0400\"}, \"name\": \"Current\", \"nbinsx\": 10, \"opacity\": 0.6, \"x\": [3.0, 7.0, 8.0, 6.0, 6.0, 5.0, 5.0, 6.0, 6.0, 5.0, 6.0, 5.0, 5.0, 5.0, 4.0, 7.0, 6.0, 6.0, 5.0, 7.0, 5.0, 6.0, 6.0, 6.0, 5.0, 7.0, 3.0, 5.0, 5.0, 6.0, 6.0, 5.0, 5.0, 3.0, 6.0, 4.0, 4.0, 4.0, 5.0, 5.0, 4.0, 4.0, 6.0, 4.0, 8.0, 5.0, 5.0, 4.0, 5.0, 4.0, 5.0, 5.0, 5.0], \"type\": \"histogram\"}], \"layout\": {\"legend\": {\"orientation\": \"h\", \"yanchor\": \"bottom\", \"y\": 1.02, \"xanchor\": \"right\", \"x\": 1}, \"xaxis\": {\"title\": {\"text\": \"no_of_bedroom\"}}, \"yaxis\": {\"title\": {\"text\": \"Share\"}}}}, \"no_of_bedroom_drift\": {\"title\": \"\", \"size\": 2, \"text\": \"\", \"type\": \"big_graph\", \"params\": {\"data\": [{\"marker\": {\"color\": \"#ed0400\", \"size\": 6}, \"mode\": \"markers\", \"name\": \"Current\", \"x\": [150, 151, 152, 153, 154, 155, 156, 157, 158, 159, 160, 161, 162, 163, 164, 165, 166, 167, 168, 169, 170, 171, 172, 173, 174, 175, 176, 177, 178, 179, 180, 181, 182, 183, 184, 185, 186, 187, 188, 189, 190, 191, 192, 193, 194, 195, 196, 197, 198, 199, 200, 201, 202], \"y\": [3.0, 7.0, 8.0, 6.0, 6.0, 5.0, 5.0, 6.0, 6.0, 5.0, 6.0, 5.0, 5.0, 5.0, 4.0, 7.0, 6.0, 6.0, 5.0, 7.0, 5.0, 6.0, 6.0, 6.0, 5.0, 7.0, 3.0, 5.0, 5.0, 6.0, 6.0, 5.0, 5.0, 3.0, 6.0, 4.0, 4.0, 4.0, 5.0, 5.0, 4.0, 4.0, 6.0, 4.0, 8.0, 5.0, 5.0, 4.0, 5.0, 4.0, 5.0, 5.0, 5.0], \"type\": \"scattergl\"}, {\"marker\": {\"color\": \"white\", \"opacity\": 0.005, \"size\": 0.01}, \"mode\": \"markers\", \"name\": \"Current\", \"showlegend\": false, \"x\": [151, 151], \"y\": [3.9840546971920103, 6.9759453028079905], \"type\": \"scattergl\"}], \"layout\": {\"legend\": {\"orientation\": \"h\", \"yanchor\": \"bottom\", \"y\": 1.02, \"xanchor\": \"right\", \"x\": 1}, \"xaxis\": {\"title\": {\"text\": \"Index\"}}, \"yaxis\": {\"title\": {\"text\": \"no_of_bedroom\"}}, \"showlegend\": true, \"shapes\": [{\"fillcolor\": \"LightGreen\", \"layer\": \"below\", \"opacity\": 0.5, \"type\": \"rect\", \"x0\": 0, \"x1\": 1, \"xref\": \"paper\", \"y0\": 3.9840546971920103, \"y1\": 6.9759453028079905, \"yref\": \"y\", \"line\": {\"width\": 0}}, {\"line\": {\"color\": \"green\", \"width\": 3}, \"name\": \"Reference\", \"type\": \"line\", \"x0\": 0, \"x1\": 1, \"xref\": \"paper\", \"y0\": 5.48, \"y1\": 5.48, \"yref\": \"y\"}]}}}, \"road_size_distr\": {\"data\": [{\"histnorm\": \"probability\", \"marker\": {\"color\": \"#4d4d4d\"}, \"name\": \"Reference\", \"nbinsx\": 10, \"opacity\": 0.6, \"x\": [13.0, 13.0, 13.0, 16.0, 13.0, 13.0, 16.0, 13.0, 13.0, 14.0, 13.0, 20.0, 13.0, 13.0, 16.0, 13.0, 13.0, 20.0, 13.0, 13.0, 13.0, 13.0, 13.0, 13.0, 12.0, 20.0, 20.0, 13.0, 13.0, 13.0, 13.0, 13.0, 13.0, 13.0, 26.0, 13.0, 12.0, 18.0, 13.0, 20.0, 13.0, 13.0, 13.0, 20.0, 20.0, 22.0, 10.0, 13.0, 13.0, 13.0, 20.0, 13.0, 13.0, 20.0, 20.0, 20.0, 13.0, 13.0, 13.0, 20.0, 12.0, 13.0, 31.0, 16.0, 20.0, 14.0, 13.0, 13.0, 20.0, 13.0, 13.0, 20.0, 26.0, 13.0, 13.0, 20.0, 11.0, 16.0, 13.0, 16.0, 20.0, 26.0, 13.0, 13.0, 13.0, 16.0, 16.0, 20.0, 13.0, 16.0, 14.0, 12.0, 13.0, 13.0, 15.0, 13.0, 16.0, 14.0, 13.0, 13.0, 6.0, 13.0, 13.0, 13.0, 16.0, 13.0, 13.0, 13.0, 13.0, 13.0, 13.0, 13.0, 14.0, 16.0, 13.0, 13.0, 13.0, 13.0, 13.0, 13.0, 13.0, 13.0, 13.0, 20.0, 13.0, 13.0, 14.0, 13.0, 13.0, 11.0, 13.0, 20.0, 20.0, 13.0, 13.0, 13.0, 22.0, 13.0, 20.0, 20.0, 22.0, 13.0, 16.0, 16.0, 13.0, 13.0, 16.0, 12.0, 11.0, 4.0], \"type\": \"histogram\"}, {\"histnorm\": \"probability\", \"marker\": {\"color\": \"#ed0400\"}, \"name\": \"Current\", \"nbinsx\": 10, \"opacity\": 0.6, \"x\": [20.0, 13.0, 13.0, 14.0, 12.0, 13.0, 10.0, 8.0, 13.0, 13.0, 13.0, 13.0, 13.0, 13.0, 13.0, 16.0, 13.0, 13.0, 16.0, 10.0, 12.0, 26.0, 26.0, 13.0, 13.0, 15.0, 13.0, 13.0, 13.0, 13.0, 20.0, 13.0, 16.0, 13.0, 13.0, 12.0, 14.0, 13.0, 13.0, 13.0, 13.0, 13.0, 13.0, 20.0, 13.0, 20.0, 20.0, 20.0, 13.0, 13.0, 13.0, 13.0, 13.0], \"type\": \"histogram\"}], \"layout\": {\"legend\": {\"orientation\": \"h\", \"yanchor\": \"bottom\", \"y\": 1.02, \"xanchor\": \"right\", \"x\": 1}, \"xaxis\": {\"title\": {\"text\": \"road_size\"}}, \"yaxis\": {\"title\": {\"text\": \"Share\"}}}}, \"road_size_drift\": {\"title\": \"\", \"size\": 2, \"text\": \"\", \"type\": \"big_graph\", \"params\": {\"data\": [{\"marker\": {\"color\": \"#ed0400\", \"size\": 6}, \"mode\": \"markers\", \"name\": \"Current\", \"x\": [150, 151, 152, 153, 154, 155, 156, 157, 158, 159, 160, 161, 162, 163, 164, 165, 166, 167, 168, 169, 170, 171, 172, 173, 174, 175, 176, 177, 178, 179, 180, 181, 182, 183, 184, 185, 186, 187, 188, 189, 190, 191, 192, 193, 194, 195, 196, 197, 198, 199, 200, 201, 202], \"y\": [20.0, 13.0, 13.0, 14.0, 12.0, 13.0, 10.0, 8.0, 13.0, 13.0, 13.0, 13.0, 13.0, 13.0, 13.0, 16.0, 13.0, 13.0, 16.0, 10.0, 12.0, 26.0, 26.0, 13.0, 13.0, 15.0, 13.0, 13.0, 13.0, 13.0, 20.0, 13.0, 16.0, 13.0, 13.0, 12.0, 14.0, 13.0, 13.0, 13.0, 13.0, 13.0, 13.0, 20.0, 13.0, 20.0, 20.0, 20.0, 13.0, 13.0, 13.0, 13.0, 13.0], \"type\": \"scattergl\"}, {\"marker\": {\"color\": \"white\", \"opacity\": 0.005, \"size\": 0.01}, \"mode\": \"markers\", \"name\": \"Current\", \"showlegend\": false, \"x\": [151, 151], \"y\": [11.12878059834681, 18.511219401653193], \"type\": \"scattergl\"}], \"layout\": {\"legend\": {\"orientation\": \"h\", \"yanchor\": \"bottom\", \"y\": 1.02, \"xanchor\": \"right\", \"x\": 1}, \"xaxis\": {\"title\": {\"text\": \"Index\"}}, \"yaxis\": {\"title\": {\"text\": \"road_size\"}}, \"showlegend\": true, \"shapes\": [{\"fillcolor\": \"LightGreen\", \"layer\": \"below\", \"opacity\": 0.5, \"type\": \"rect\", \"x0\": 0, \"x1\": 1, \"xref\": \"paper\", \"y0\": 11.12878059834681, \"y1\": 18.511219401653193, \"yref\": \"y\", \"line\": {\"width\": 0}}, {\"line\": {\"color\": \"green\", \"width\": 3}, \"name\": \"Reference\", \"type\": \"line\", \"x0\": 0, \"x1\": 1, \"xref\": \"paper\", \"y0\": 14.82, \"y1\": 14.82, \"yref\": \"y\"}]}}}, \"no_of_livingroom_distr\": {\"data\": [{\"histnorm\": \"probability\", \"marker\": {\"color\": \"#4d4d4d\"}, \"name\": \"Reference\", \"nbinsx\": 10, \"opacity\": 0.6, \"x\": [2.0, 2.0, 2.0, 2.0, 2.0, 2.0, 2.0, 2.0, 2.0, 2.0, 1.0, 2.0, 1.0, 1.0, 1.0, 2.0, 4.0, 3.0, 2.0, 2.0, 2.0, 2.0, 3.0, 2.0, 1.0, 1.0, 2.0, 2.0, 2.0, 2.0, 2.0, 2.0, 2.0, 2.0, 1.0, 2.0, 3.0, 2.0, 1.0, 2.0, 1.0, 1.0, 1.0, 2.0, 3.0, 3.0, 1.0, 1.0, 2.0, 2.0, 2.0, 2.0, 2.0, 3.0, 1.0, 1.0, 2.0, 1.0, 2.0, 1.0, 3.0, 2.0, 1.0, 0.0, 2.0, 2.0, 2.0, 2.0, 2.0, 1.0, 1.0, 2.0, 1.0, 2.0, 1.0, 3.0, 2.0, 2.0, 2.0, 1.0, 2.0, 2.0, 2.0, 2.0, 2.0, 2.0, 3.0, 2.0, 2.0, 2.0, 2.0, 1.0, 2.0, 2.0, 2.0, 2.0, 2.0, 2.0, 2.0, 2.0, 0.0, 2.0, 2.0, 2.0, 1.0, 2.0, 2.0, 1.0, 2.0, 2.0, 2.0, 2.0, 2.0, 2.0, 2.0, 1.0, 1.0, 2.0, 2.0, 2.0, 2.0, 2.0, 1.0, 1.0, 1.0, 2.0, 1.0, 1.0, 2.0, 1.0, 1.0, 2.0, 1.0, 2.0, 1.0, 2.0, 1.0, 2.0, 2.0, 1.0, 2.0, 2.0, 2.0, 4.0, 2.0, 2.0, 1.0, 2.0, 1.0, 2.0], \"type\": \"histogram\"}, {\"histnorm\": \"probability\", \"marker\": {\"color\": \"#ed0400\"}, \"name\": \"Current\", \"nbinsx\": 10, \"opacity\": 0.6, \"x\": [1.0, 3.0, 3.0, 1.0, 1.0, 1.0, 1.0, 1.0, 2.0, 2.0, 2.0, 1.0, 2.0, 2.0, 1.0, 2.0, 2.0, 2.0, 1.0, 1.0, 1.0, 2.0, 2.0, 2.0, 2.0, 3.0, 1.0, 2.0, 2.0, 2.0, 2.0, 2.0, 2.0, 2.0, 2.0, 1.0, 1.0, 2.0, 2.0, 3.0, 2.0, 2.0, 2.0, 1.0, 3.0, 1.0, 1.0, 2.0, 2.0, 2.0, 2.0, 3.0, 2.0], \"type\": \"histogram\"}], \"layout\": {\"legend\": {\"orientation\": \"h\", \"yanchor\": \"bottom\", \"y\": 1.02, \"xanchor\": \"right\", \"x\": 1}, \"xaxis\": {\"title\": {\"text\": \"no_of_livingroom\"}}, \"yaxis\": {\"title\": {\"text\": \"Share\"}}}}, \"no_of_livingroom_drift\": {\"title\": \"\", \"size\": 2, \"text\": \"\", \"type\": \"big_graph\", \"params\": {\"data\": [{\"marker\": {\"color\": \"#ed0400\", \"size\": 6}, \"mode\": \"markers\", \"name\": \"Current\", \"x\": [150, 151, 152, 153, 154, 155, 156, 157, 158, 159, 160, 161, 162, 163, 164, 165, 166, 167, 168, 169, 170, 171, 172, 173, 174, 175, 176, 177, 178, 179, 180, 181, 182, 183, 184, 185, 186, 187, 188, 189, 190, 191, 192, 193, 194, 195, 196, 197, 198, 199, 200, 201, 202], \"y\": [1.0, 3.0, 3.0, 1.0, 1.0, 1.0, 1.0, 1.0, 2.0, 2.0, 2.0, 1.0, 2.0, 2.0, 1.0, 2.0, 2.0, 2.0, 1.0, 1.0, 1.0, 2.0, 2.0, 2.0, 2.0, 3.0, 1.0, 2.0, 2.0, 2.0, 2.0, 2.0, 2.0, 2.0, 2.0, 1.0, 1.0, 2.0, 2.0, 3.0, 2.0, 2.0, 2.0, 1.0, 3.0, 1.0, 1.0, 2.0, 2.0, 2.0, 2.0, 3.0, 2.0], \"type\": \"scattergl\"}, {\"marker\": {\"color\": \"white\", \"opacity\": 0.005, \"size\": 0.01}, \"mode\": \"markers\", \"name\": \"Current\", \"showlegend\": false, \"x\": [151, 151], \"y\": [1.1564790237186438, 2.4168543096146893], \"type\": \"scattergl\"}], \"layout\": {\"legend\": {\"orientation\": \"h\", \"yanchor\": \"bottom\", \"y\": 1.02, \"xanchor\": \"right\", \"x\": 1}, \"xaxis\": {\"title\": {\"text\": \"Index\"}}, \"yaxis\": {\"title\": {\"text\": \"no_of_livingroom\"}}, \"showlegend\": true, \"shapes\": [{\"fillcolor\": \"LightGreen\", \"layer\": \"below\", \"opacity\": 0.5, \"type\": \"rect\", \"x0\": 0, \"x1\": 1, \"xref\": \"paper\", \"y0\": 1.1564790237186438, \"y1\": 2.4168543096146893, \"yref\": \"y\", \"line\": {\"width\": 0}}, {\"line\": {\"color\": \"green\", \"width\": 3}, \"name\": \"Reference\", \"type\": \"line\", \"x0\": 0, \"x1\": 1, \"xref\": \"paper\", \"y0\": 1.7866666666666666, \"y1\": 1.7866666666666666, \"yref\": \"y\"}]}}}, \"facing_distr\": {\"data\": [{\"marker\": {\"color\": \"#4d4d4d\"}, \"name\": \"Reference\", \"opacity\": 0.6, \"x\": [\"south\", \"east\", \"north\", \"west\", \"south-west\", \"east-north\", \"east-south\", \"north-west\"], \"y\": [35, 32, 24, 15, 14, 13, 11, 6], \"type\": \"bar\"}, {\"marker\": {\"color\": \"#ed0400\"}, \"name\": \"Current\", \"opacity\": 0.6, \"x\": [\"south\", \"east\", \"east-south\", \"north\", \"west\", \"east-north\", \"north-west\", \"south-west\"], \"y\": [14, 11, 8, 7, 7, 3, 2, 1], \"type\": \"bar\"}], \"layout\": {\"legend\": {\"orientation\": \"h\", \"yanchor\": \"bottom\", \"y\": 1.02, \"xanchor\": \"right\", \"x\": 1}, \"xaxis\": {\"title\": {\"text\": \"facing\"}}, \"yaxis\": {\"title\": {\"text\": \"Share\"}}}}, \"area_distr\": {\"data\": [{\"histnorm\": \"probability\", \"marker\": {\"color\": \"#4d4d4d\"}, \"name\": \"Reference\", \"nbinsx\": 10, \"opacity\": 0.6, \"x\": [1069.53, 1026.75, 1369.0, 1369.0, 2395.75, 1540.12, 1882.37, 1369.0, 2053.5, 1026.75, 1540.12, 1625.68, 1369.0, 1026.75, 1283.43, 1369.0, 2738.0, 1411.78, 1454.56, 1369.0, 941.18, 1497.34, 2909.12, 1711.25, 1048.14, 2738.0, 1026.75, 1369.0, 1411.78, 1411.78, 1197.87, 1540.12, 1711.25, 855.62, 1540.12, 1090.92, 1197.87, 1454.56, 3251.37, 1026.75, 1882.37, 1026.75, 1475.95, 1711.25, 1026.75, 1283.43, 1026.75, 1283.43, 1411.78, 2738.0, 1197.87, 1411.78, 1069.53, 1369.0, 1925.15, 1882.37, 1197.87, 2053.5, 1026.75, 1048.14, 1860.98, 1369.0, 1155.09, 1967.93, 2139.06, 4107.0, 1197.87, 1839.59, 1711.25, 1240.65, 1026.75, 1540.12, 1625.68, 2053.5, 3508.06, 1882.37, 1048.14, 1967.93, 1283.43, 2053.5, 3058.85, 2738.0, 1155.09, 2802.17, 1369.0, 1197.87, 855.625, 1454.56, 1540.12, 1369.0, 1197.87, 1026.75, 1369.0, 3080.25, 1026.75, 1796.81, 1475.95, 1326.21, 1112.31, 2738.0, 855.62, 1112.31, 4449.25, 6160.5, 6502.75, 941.18, 1540.12, 1112.31, 1155.09, 5476.0, 1711.25, 1497.34, 4107.0, 1197.87, 855.62, 1069.53, 1283.43, 1711.25, 1197.87, 1026.75, 2395.75, 1711.25, 1475.95, 1625.68, 1069.53, 1369.0, 1069.53, 1625.68, 1197.87, 1711.25, 1219.26, 2139.06, 2139.06, 1711.25, 3080.25, 1711.25, 1197.87, 2224.62, 1796.81, 1518.73, 2738.0, 1540.12, 1112.31, 2053.5, 1540.12, 3058.85, 5476.0, 1133.7, 1026.75, 1112.31], \"type\": \"histogram\"}, {\"histnorm\": \"probability\", \"marker\": {\"color\": \"#ed0400\"}, \"name\": \"Current\", \"nbinsx\": 10, \"opacity\": 0.6, \"x\": [1026.75, 1369.0, 1197.87, 1026.75, 1369.0, 1026.75, 3593.62, 1197.87, 1026.75, 1112.31, 1197.87, 1026.75, 1197.87, 1197.87, 1711.25, 1454.56, 1112.31, 1026.75, 2823.56, 3764.75, 919.79, 1112.31, 1369.0, 2909.12, 941.18, 1197.87, 2395.75, 1112.31, 1197.87, 1112.31, 1369.0, 1112.31, 1369.0, 1326.21, 1711.25, 1283.43, 1026.75, 1026.75, 1925.15, 1454.56, 1882.37, 1839.59, 1454.56, 1437.45, 1518.73, 4449.25, 4620.37, 1711.25, 1625.68, 1454.56, 1112.31, 1112.31, 1069.53], \"type\": \"histogram\"}], \"layout\": {\"legend\": {\"orientation\": \"h\", \"yanchor\": \"bottom\", \"y\": 1.02, \"xanchor\": \"right\", \"x\": 1}, \"xaxis\": {\"title\": {\"text\": \"area\"}}, \"yaxis\": {\"title\": {\"text\": \"Share\"}}}}, \"area_drift\": {\"title\": \"\", \"size\": 2, \"text\": \"\", \"type\": \"big_graph\", \"params\": {\"data\": [{\"marker\": {\"color\": \"#ed0400\", \"size\": 6}, \"mode\": \"markers\", \"name\": \"Current\", \"x\": [150, 151, 152, 153, 154, 155, 156, 157, 158, 159, 160, 161, 162, 163, 164, 165, 166, 167, 168, 169, 170, 171, 172, 173, 174, 175, 176, 177, 178, 179, 180, 181, 182, 183, 184, 185, 186, 187, 188, 189, 190, 191, 192, 193, 194, 195, 196, 197, 198, 199, 200, 201, 202], \"y\": [1026.75, 1369.0, 1197.87, 1026.75, 1369.0, 1026.75, 3593.62, 1197.87, 1026.75, 1112.31, 1197.87, 1026.75, 1197.87, 1197.87, 1711.25, 1454.56, 1112.31, 1026.75, 2823.56, 3764.75, 919.79, 1112.31, 1369.0, 2909.12, 941.18, 1197.87, 2395.75, 1112.31, 1197.87, 1112.31, 1369.0, 1112.31, 1369.0, 1326.21, 1711.25, 1283.43, 1026.75, 1026.75, 1925.15, 1454.56, 1882.37, 1839.59, 1454.56, 1437.45, 1518.73, 4449.25, 4620.37, 1711.25, 1625.68, 1454.56, 1112.31, 1112.31, 1069.53], \"type\": \"scattergl\"}, {\"marker\": {\"color\": \"white\", \"opacity\": 0.005, \"size\": 0.01}, \"mode\": \"markers\", \"name\": \"Current\", \"showlegend\": false, \"x\": [151, 151], \"y\": [768.3722014760741, 2702.037598523926], \"type\": \"scattergl\"}], \"layout\": {\"legend\": {\"orientation\": \"h\", \"yanchor\": \"bottom\", \"y\": 1.02, \"xanchor\": \"right\", \"x\": 1}, \"xaxis\": {\"title\": {\"text\": \"Index\"}}, \"yaxis\": {\"title\": {\"text\": \"area\"}}, \"showlegend\": true, \"shapes\": [{\"fillcolor\": \"LightGreen\", \"layer\": \"below\", \"opacity\": 0.5, \"type\": \"rect\", \"x0\": 0, \"x1\": 1, \"xref\": \"paper\", \"y0\": 768.3722014760741, \"y1\": 2702.037598523926, \"yref\": \"y\", \"line\": {\"width\": 0}}, {\"line\": {\"color\": \"green\", \"width\": 3}, \"name\": \"Reference\", \"type\": \"line\", \"x0\": 0, \"x1\": 1, \"xref\": \"paper\", \"y0\": 1735.2049000000002, \"y1\": 1735.2049000000002, \"yref\": \"y\"}]}}}, \"price_distr\": {\"data\": [{\"histnorm\": \"probability\", \"marker\": {\"color\": \"#4d4d4d\"}, \"name\": \"Reference\", \"nbinsx\": 10, \"opacity\": 0.6, \"x\": [32000000.0, 28000000.0, 40000000.0, 28000000.0, 40000000.0, 47000000.0, 52500000.0, 42500000.0, 63000000.0, 28000000.0, 53500000.0, 39000000.0, 45000000.0, 25200000.0, 39000000.0, 39500000.0, 86000000.0, 38500000.0, 42000000.0, 42500000.0, 22000000.0, 30000000.0, 63500000.0, 50000000.0, 17500000.0, 63000000.0, 32500000.0, 33500000.0, 31000000.0, 31000000.0, 29500000.0, 36500000.0, 45000000.0, 23000000.0, 35000000.0, 34500000.0, 32500000.0, 39500000.0, 105000000.0, 26000000.0, 31500000.0, 26500000.0, 32500000.0, 47500000.0, 30000000.0, 33000000.0, 17500000.0, 28500000.0, 39000000.0, 80000000.0, 32500000.0, 33000000.0, 32000000.0, 35000000.0, 36500000.0, 35000000.0, 25000000.0, 57500000.0, 28500000.0, 35000000.0, 38000000.0, 38000000.0, 18500000.0, 38000000.0, 70000000.0, 80000000.0, 37500000.0, 52000000.0, 54000000.0, 42000000.0, 42000000.0, 39000000.0, 52500000.0, 70000000.0, 77500000.0, 65000000.0, 23500000.0, 70000000.0, 22000000.0, 62500000.0, 59000000.0, 80000000.0, 33000000.0, 80000000.0, 29800000.0, 34500000.0, 27500000.0, 37500000.0, 45000000.0, 41000000.0, 28000000.0, 40000000.0, 35500000.0, 65000000.0, 21000000.0, 50000000.0, 42500000.0, 32500000.0, 21000000.0, 92500000.0, 12500000.0, 27500000.0, 67500000.0, 130000000.0, 170000000.0, 26500000.0, 31000000.0, 27000000.0, 29000000.0, 135000000.0, 55000000.0, 39500000.0, 115000000.0, 26900000.0, 26000000.0, 23000000.0, 38500000.0, 55000000.0, 35000000.0, 24500000.0, 75000000.0, 55000000.0, 42500000.0, 45000000.0, 28000000.0, 36500000.0, 33000000.0, 49500000.0, 29500000.0, 42000000.0, 24000000.0, 57500000.0, 57500000.0, 47000000.0, 75000000.0, 48500000.0, 35000000.0, 52500000.0, 67000000.0, 52500000.0, 60000000.0, 39500000.0, 24000000.0, 43500000.0, 38000000.0, 70000000.0, 9500000.0, 31000000.0, 33000000.0, 14000000.0], \"type\": \"histogram\"}, {\"histnorm\": \"probability\", \"marker\": {\"color\": \"#ed0400\"}, \"name\": \"Current\", \"nbinsx\": 10, \"opacity\": 0.6, \"x\": [26000000.0, 27500000.0, 38000000.0, 19000000.0, 19500000.0, 26500000.0, 95500000.0, 20000000.0, 24000000.0, 24500000.0, 27500000.0, 27000000.0, 27500000.0, 27000000.0, 32000000.0, 42500000.0, 35000000.0, 29500000.0, 60000000.0, 110000000.0, 22500000.0, 33000000.0, 44500000.0, 70000000.0, 17500000.0, 29000000.0, 48000000.0, 31500000.0, 32500000.0, 29000000.0, 46000000.0, 32500000.0, 32500000.0, 31000000.0, 43000000.0, 35000000.0, 26000000.0, 25000000.0, 30000000.0, 42500000.0, 67000000.0, 64000000.0, 45000000.0, 47500000.0, 24500000.0, 100000000.0, 95000000.0, 46500000.0, 46500000.0, 37500000.0, 33500000.0, 33500000.0, 21500000.0], \"type\": \"histogram\"}], \"layout\": {\"legend\": {\"orientation\": \"h\", \"yanchor\": \"bottom\", \"y\": 1.02, \"xanchor\": \"right\", \"x\": 1}, \"xaxis\": {\"title\": {\"text\": \"price\"}}, \"yaxis\": {\"title\": {\"text\": \"Share\"}}}}, \"price_drift\": {\"title\": \"\", \"size\": 2, \"text\": \"\", \"type\": \"big_graph\", \"params\": {\"data\": [{\"marker\": {\"color\": \"#ed0400\", \"size\": 6}, \"mode\": \"markers\", \"name\": \"Current\", \"x\": [150, 151, 152, 153, 154, 155, 156, 157, 158, 159, 160, 161, 162, 163, 164, 165, 166, 167, 168, 169, 170, 171, 172, 173, 174, 175, 176, 177, 178, 179, 180, 181, 182, 183, 184, 185, 186, 187, 188, 189, 190, 191, 192, 193, 194, 195, 196, 197, 198, 199, 200, 201, 202], \"y\": [26000000.0, 27500000.0, 38000000.0, 19000000.0, 19500000.0, 26500000.0, 95500000.0, 20000000.0, 24000000.0, 24500000.0, 27500000.0, 27000000.0, 27500000.0, 27000000.0, 32000000.0, 42500000.0, 35000000.0, 29500000.0, 60000000.0, 110000000.0, 22500000.0, 33000000.0, 44500000.0, 70000000.0, 17500000.0, 29000000.0, 48000000.0, 31500000.0, 32500000.0, 29000000.0, 46000000.0, 32500000.0, 32500000.0, 31000000.0, 43000000.0, 35000000.0, 26000000.0, 25000000.0, 30000000.0, 42500000.0, 67000000.0, 64000000.0, 45000000.0, 47500000.0, 24500000.0, 100000000.0, 95000000.0, 46500000.0, 46500000.0, 37500000.0, 33500000.0, 33500000.0, 21500000.0], \"type\": \"scattergl\"}, {\"marker\": {\"color\": \"white\", \"opacity\": 0.005, \"size\": 0.01}, \"mode\": \"markers\", \"name\": \"Current\", \"showlegend\": false, \"x\": [151, 151], \"y\": [21044876.392886117, 67547123.60711388], \"type\": \"scattergl\"}], \"layout\": {\"legend\": {\"orientation\": \"h\", \"yanchor\": \"bottom\", \"y\": 1.02, \"xanchor\": \"right\", \"x\": 1}, \"xaxis\": {\"title\": {\"text\": \"Index\"}}, \"yaxis\": {\"title\": {\"text\": \"price\"}}, \"showlegend\": true, \"shapes\": [{\"fillcolor\": \"LightGreen\", \"layer\": \"below\", \"opacity\": 0.5, \"type\": \"rect\", \"x0\": 0, \"x1\": 1, \"xref\": \"paper\", \"y0\": 21044876.392886117, \"y1\": 67547123.60711388, \"yref\": \"y\", \"line\": {\"width\": 0}}, {\"line\": {\"color\": \"green\", \"width\": 3}, \"name\": \"Reference\", \"type\": \"line\", \"x0\": 0, \"x1\": 1, \"xref\": \"paper\", \"y0\": 44296000.0, \"y1\": 44296000.0, \"yref\": \"y\"}]}}}, \"parking_distr\": {\"data\": [{\"histnorm\": \"probability\", \"marker\": {\"color\": \"#4d4d4d\"}, \"name\": \"Reference\", \"nbinsx\": 10, \"opacity\": 0.6, \"x\": [4.0, 2.0, 4.0, 4.0, 4.0, 4.0, 4.0, 4.0, 4.0, 3.0, 4.0, 4.0, 4.0, 4.0, 4.0, 3.0, 4.0, 4.0, 4.0, 3.0, 2.0, 3.0, 5.0, 4.0, 2.0, 4.0, 3.0, 4.0, 4.0, 4.0, 4.0, 4.0, 4.0, 4.0, 4.0, 4.0, 3.0, 4.0, 7.0, 4.0, 4.0, 4.0, 3.0, 3.0, 3.0, 4.0, 3.0, 3.0, 4.0, 3.0, 3.0, 3.0, 3.0, 3.0, 3.0, 3.0, 4.0, 4.0, 4.0, 4.0, 3.0, 3.0, 3.0, 4.0, 5.0, 7.0, 4.0, 5.0, 4.0, 4.0, 4.0, 4.0, 4.0, 4.0, 5.0, 4.0, 2.0, 3.0, 3.0, 3.0, 5.0, 6.0, 3.0, 5.0, 6.0, 3.0, 3.0, 4.0, 4.0, 3.0, 3.0, 4.0, 4.0, 5.0, 3.0, 4.0, 4.0, 3.0, 3.0, 3.0, 1.0, 4.0, 5.0, 4.0, 10.0, 4.0, 4.0, 4.0, 4.0, 7.0, 4.0, 3.0, 7.0, 4.0, 2.0, 4.0, 4.0, 3.0, 4.0, 3.0, 6.0, 4.0, 4.0, 4.0, 4.0, 4.0, 4.0, 6.0, 4.0, 3.0, 4.0, 4.0, 4.0, 3.0, 3.0, 4.0, 3.0, 3.0, 5.0, 3.0, 5.0, 5.0, 4.0, 7.0, 5.0, 7.0, 10.0, 5.0, 6.0, 1.0], \"type\": \"histogram\"}, {\"histnorm\": \"probability\", \"marker\": {\"color\": \"#ed0400\"}, \"name\": \"Current\", \"nbinsx\": 10, \"opacity\": 0.6, \"x\": [4.0, 4.0, 4.0, 4.0, 4.0, 4.0, 7.0, 2.0, 4.0, 4.0, 4.0, 4.0, 4.0, 4.0, 4.0, 4.0, 5.0, 4.0, 5.0, 8.0, 4.0, 4.0, 4.0, 4.0, 4.0, 4.0, 1.0, 1.0, 1.0, 1.0, 3.0, 3.0, 3.0, 1.0, 1.0, 1.0, 1.0, 3.0, 4.0, 4.0, 1.0, 1.0, 2.0, 3.0, 2.0, 10.0, 10.0, 1.0, 1.0, 1.0, 1.0, 1.0, 4.0], \"type\": \"histogram\"}], \"layout\": {\"legend\": {\"orientation\": \"h\", \"yanchor\": \"bottom\", \"y\": 1.02, \"xanchor\": \"right\", \"x\": 1}, \"xaxis\": {\"title\": {\"text\": \"parking\"}}, \"yaxis\": {\"title\": {\"text\": \"Share\"}}}}, \"parking_drift\": {\"title\": \"\", \"size\": 2, \"text\": \"\", \"type\": \"big_graph\", \"params\": {\"data\": [{\"marker\": {\"color\": \"#ed0400\", \"size\": 6}, \"mode\": \"markers\", \"name\": \"Current\", \"x\": [150, 151, 152, 153, 154, 155, 156, 157, 158, 159, 160, 161, 162, 163, 164, 165, 166, 167, 168, 169, 170, 171, 172, 173, 174, 175, 176, 177, 178, 179, 180, 181, 182, 183, 184, 185, 186, 187, 188, 189, 190, 191, 192, 193, 194, 195, 196, 197, 198, 199, 200, 201, 202], \"y\": [4.0, 4.0, 4.0, 4.0, 4.0, 4.0, 7.0, 2.0, 4.0, 4.0, 4.0, 4.0, 4.0, 4.0, 4.0, 4.0, 5.0, 4.0, 5.0, 8.0, 4.0, 4.0, 4.0, 4.0, 4.0, 4.0, 1.0, 1.0, 1.0, 1.0, 3.0, 3.0, 3.0, 1.0, 1.0, 1.0, 1.0, 3.0, 4.0, 4.0, 1.0, 1.0, 2.0, 3.0, 2.0, 10.0, 10.0, 1.0, 1.0, 1.0, 1.0, 1.0, 4.0], \"type\": \"scattergl\"}, {\"marker\": {\"color\": \"white\", \"opacity\": 0.005, \"size\": 0.01}, \"mode\": \"markers\", \"name\": \"Current\", \"showlegend\": false, \"x\": [151, 151], \"y\": [2.7006065269399153, 5.232726806393418], \"type\": \"scattergl\"}], \"layout\": {\"legend\": {\"orientation\": \"h\", \"yanchor\": \"bottom\", \"y\": 1.02, \"xanchor\": \"right\", \"x\": 1}, \"xaxis\": {\"title\": {\"text\": \"Index\"}}, \"yaxis\": {\"title\": {\"text\": \"parking\"}}, \"showlegend\": true, \"shapes\": [{\"fillcolor\": \"LightGreen\", \"layer\": \"below\", \"opacity\": 0.5, \"type\": \"rect\", \"x0\": 0, \"x1\": 1, \"xref\": \"paper\", \"y0\": 2.7006065269399153, \"y1\": 5.232726806393418, \"yref\": \"y\", \"line\": {\"width\": 0}}, {\"line\": {\"color\": \"green\", \"width\": 3}, \"name\": \"Reference\", \"type\": \"line\", \"x0\": 0, \"x1\": 1, \"xref\": \"paper\", \"y0\": 3.966666666666667, \"y1\": 3.966666666666667, \"yref\": \"y\"}]}}}, \"no_of_flat_distr\": {\"data\": [{\"histnorm\": \"probability\", \"marker\": {\"color\": \"#4d4d4d\"}, \"name\": \"Reference\", \"nbinsx\": 10, \"opacity\": 0.6, \"x\": [3.0, 3.5, 2.5, 2.5, 2.5, 3.0, 2.5, 3.0, 2.5, 3.0, 2.5, 3.5, 3.0, 2.5, 3.5, 3.5, 4.0, 3.0, 3.5, 3.5, 2.5, 2.5, 2.5, 3.0, 1.5, 2.5, 4.0, 2.5, 2.5, 2.5, 2.5, 2.5, 2.5, 3.0, 3.5, 3.0, 3.5, 2.5, 2.5, 2.5, 2.5, 2.5, 2.5, 2.5, 3.5, 2.5, 1.0, 2.5, 2.5, 2.5, 2.5, 2.5, 2.5, 3.0, 2.5, 2.5, 3.0, 2.0, 3.5, 2.5, 3.0, 2.5, 2.5, 4.0, 2.5, 2.5, 3.5, 3.5, 3.0, 3.0, 3.0, 3.0, 2.5, 4.0, 2.5, 3.0, 3.0, 2.5, 3.0, 3.0, 3.0, 3.0, 3.0, 3.5, 2.5, 3.0, 4.0, 3.5, 2.5, 2.5, 2.5, 2.5, 2.5, 3.5, 2.5, 2.5, 3.5, 2.5, 2.5, 3.0, 1.0, 2.5, 2.5, 2.5, 2.5, 3.0, 2.5, 3.5, 2.5, 2.5, 3.0, 3.0, 2.5, 2.5, 3.0, 2.5, 2.5, 3.5, 3.5, 2.5, 2.5, 2.5, 3.5, 2.5, 2.5, 2.5, 2.5, 3.5, 3.0, 3.0, 4.0, 3.0, 3.0, 3.0, 3.0, 2.5, 2.5, 3.0, 3.0, 3.0, 5.0, 3.0, 3.0, 5.0, 4.0, 4.0, 1.0, 4.0, 3.0, 3.0], \"type\": \"histogram\"}, {\"histnorm\": \"probability\", \"marker\": {\"color\": \"#ed0400\"}, \"name\": \"Current\", \"nbinsx\": 10, \"opacity\": 0.6, \"x\": [2.5, 3.0, 3.0, 3.0, 3.0, 3.0, 3.0, 2.5, 3.0, 3.0, 3.0, 3.0, 3.0, 3.0, 2.5, 4.0, 3.0, 6.0, 3.0, 4.0, 3.0, 4.0, 4.0, 4.0, 3.0, 4.0, 3.0, 4.0, 3.0, 4.0, 3.5, 4.0, 2.5, 3.0, 3.0, 3.0, 3.0, 2.5, 2.5, 2.5, 3.0, 3.0, 2.5, 2.5, 3.0, 3.0, 2.5, 3.0, 3.0, 3.0, 3.0, 3.0, 2.5], \"type\": \"histogram\"}], \"layout\": {\"legend\": {\"orientation\": \"h\", \"yanchor\": \"bottom\", \"y\": 1.02, \"xanchor\": \"right\", \"x\": 1}, \"xaxis\": {\"title\": {\"text\": \"no_of_flat\"}}, \"yaxis\": {\"title\": {\"text\": \"Share\"}}}}, \"no_of_flat_drift\": {\"title\": \"\", \"size\": 2, \"text\": \"\", \"type\": \"big_graph\", \"params\": {\"data\": [{\"marker\": {\"color\": \"#ed0400\", \"size\": 6}, \"mode\": \"markers\", \"name\": \"Current\", \"x\": [150, 151, 152, 153, 154, 155, 156, 157, 158, 159, 160, 161, 162, 163, 164, 165, 166, 167, 168, 169, 170, 171, 172, 173, 174, 175, 176, 177, 178, 179, 180, 181, 182, 183, 184, 185, 186, 187, 188, 189, 190, 191, 192, 193, 194, 195, 196, 197, 198, 199, 200, 201, 202], \"y\": [2.5, 3.0, 3.0, 3.0, 3.0, 3.0, 3.0, 2.5, 3.0, 3.0, 3.0, 3.0, 3.0, 3.0, 2.5, 4.0, 3.0, 6.0, 3.0, 4.0, 3.0, 4.0, 4.0, 4.0, 3.0, 4.0, 3.0, 4.0, 3.0, 4.0, 3.5, 4.0, 2.5, 3.0, 3.0, 3.0, 3.0, 2.5, 2.5, 2.5, 3.0, 3.0, 2.5, 2.5, 3.0, 3.0, 2.5, 3.0, 3.0, 3.0, 3.0, 3.0, 2.5], \"type\": \"scattergl\"}, {\"marker\": {\"color\": \"white\", \"opacity\": 0.005, \"size\": 0.01}, \"mode\": \"markers\", \"name\": \"Current\", \"showlegend\": false, \"x\": [151, 151], \"y\": [2.2700355690223044, 3.456631097644362], \"type\": \"scattergl\"}], \"layout\": {\"legend\": {\"orientation\": \"h\", \"yanchor\": \"bottom\", \"y\": 1.02, \"xanchor\": \"right\", \"x\": 1}, \"xaxis\": {\"title\": {\"text\": \"Index\"}}, \"yaxis\": {\"title\": {\"text\": \"no_of_flat\"}}, \"showlegend\": true, \"shapes\": [{\"fillcolor\": \"LightGreen\", \"layer\": \"below\", \"opacity\": 0.5, \"type\": \"rect\", \"x0\": 0, \"x1\": 1, \"xref\": \"paper\", \"y0\": 2.2700355690223044, \"y1\": 3.456631097644362, \"yref\": \"y\", \"line\": {\"width\": 0}}, {\"line\": {\"color\": \"green\", \"width\": 3}, \"name\": \"Reference\", \"type\": \"line\", \"x0\": 0, \"x1\": 1, \"xref\": \"paper\", \"y0\": 2.8633333333333333, \"y1\": 2.8633333333333333, \"yref\": \"y\"}]}}}, \"no_of_kitchen_distr\": {\"data\": [{\"histnorm\": \"probability\", \"marker\": {\"color\": \"#4d4d4d\"}, \"name\": \"Reference\", \"nbinsx\": 10, \"opacity\": 0.6, \"x\": [3.0, 3.5, 2.5, 2.5, 2.5, 3.0, 2.5, 3.0, 2.5, 3.0, 2.5, 3.5, 3.0, 2.5, 3.5, 3.5, 4.0, 3.0, 3.5, 3.5, 2.5, 2.5, 2.5, 3.0, 1.5, 2.5, 4.0, 2.5, 2.5, 2.5, 2.5, 2.5, 2.5, 3.0, 3.5, 3.0, 3.5, 2.5, 2.5, 2.5, 2.5, 2.5, 2.5, 2.5, 3.5, 2.5, 1.0, 2.5, 2.5, 2.5, 2.5, 2.5, 2.5, 3.0, 2.5, 2.5, 3.0, 2.0, 3.5, 2.5, 3.0, 2.5, 2.5, 4.0, 2.5, 2.5, 3.5, 3.5, 3.0, 3.0, 3.0, 3.0, 2.5, 4.0, 2.5, 3.0, 3.0, 2.5, 3.0, 3.0, 3.0, 3.0, 3.0, 3.5, 2.5, 3.0, 4.0, 3.5, 2.5, 2.5, 2.5, 2.5, 2.5, 3.5, 2.5, 2.5, 3.5, 2.5, 2.5, 3.0, 1.0, 2.5, 2.5, 2.5, 2.5, 3.0, 2.5, 3.5, 2.5, 2.5, 3.0, 3.0, 2.5, 2.5, 3.0, 2.5, 2.5, 3.5, 3.5, 2.5, 2.5, 2.5, 3.5, 2.5, 2.5, 2.5, 2.5, 3.5, 3.0, 3.0, 4.0, 3.0, 3.0, 3.0, 3.0, 2.5, 2.5, 3.0, 3.0, 3.0, 5.0, 3.0, 3.0, 5.0, 4.0, 4.0, 1.0, 4.0, 3.0, 3.0], \"type\": \"histogram\"}, {\"histnorm\": \"probability\", \"marker\": {\"color\": \"#ed0400\"}, \"name\": \"Current\", \"nbinsx\": 10, \"opacity\": 0.6, \"x\": [2.5, 3.0, 3.0, 3.0, 3.0, 3.0, 3.0, 2.5, 3.0, 3.0, 3.0, 3.0, 3.0, 3.0, 2.5, 4.0, 3.0, 6.0, 3.0, 4.0, 3.0, 4.0, 4.0, 4.0, 3.0, 4.0, 3.0, 4.0, 3.0, 4.0, 3.5, 4.0, 2.5, 3.0, 3.0, 3.0, 3.0, 2.5, 2.5, 2.5, 3.0, 3.0, 2.5, 2.5, 3.0, 3.0, 2.5, 3.0, 3.0, 3.0, 3.0, 3.0, 2.5], \"type\": \"histogram\"}], \"layout\": {\"legend\": {\"orientation\": \"h\", \"yanchor\": \"bottom\", \"y\": 1.02, \"xanchor\": \"right\", \"x\": 1}, \"xaxis\": {\"title\": {\"text\": \"no_of_kitchen\"}}, \"yaxis\": {\"title\": {\"text\": \"Share\"}}}}, \"no_of_kitchen_drift\": {\"title\": \"\", \"size\": 2, \"text\": \"\", \"type\": \"big_graph\", \"params\": {\"data\": [{\"marker\": {\"color\": \"#ed0400\", \"size\": 6}, \"mode\": \"markers\", \"name\": \"Current\", \"x\": [150, 151, 152, 153, 154, 155, 156, 157, 158, 159, 160, 161, 162, 163, 164, 165, 166, 167, 168, 169, 170, 171, 172, 173, 174, 175, 176, 177, 178, 179, 180, 181, 182, 183, 184, 185, 186, 187, 188, 189, 190, 191, 192, 193, 194, 195, 196, 197, 198, 199, 200, 201, 202], \"y\": [2.5, 3.0, 3.0, 3.0, 3.0, 3.0, 3.0, 2.5, 3.0, 3.0, 3.0, 3.0, 3.0, 3.0, 2.5, 4.0, 3.0, 6.0, 3.0, 4.0, 3.0, 4.0, 4.0, 4.0, 3.0, 4.0, 3.0, 4.0, 3.0, 4.0, 3.5, 4.0, 2.5, 3.0, 3.0, 3.0, 3.0, 2.5, 2.5, 2.5, 3.0, 3.0, 2.5, 2.5, 3.0, 3.0, 2.5, 3.0, 3.0, 3.0, 3.0, 3.0, 2.5], \"type\": \"scattergl\"}, {\"marker\": {\"color\": \"white\", \"opacity\": 0.005, \"size\": 0.01}, \"mode\": \"markers\", \"name\": \"Current\", \"showlegend\": false, \"x\": [151, 151], \"y\": [2.2700355690223044, 3.456631097644362], \"type\": \"scattergl\"}], \"layout\": {\"legend\": {\"orientation\": \"h\", \"yanchor\": \"bottom\", \"y\": 1.02, \"xanchor\": \"right\", \"x\": 1}, \"xaxis\": {\"title\": {\"text\": \"Index\"}}, \"yaxis\": {\"title\": {\"text\": \"no_of_kitchen\"}}, \"showlegend\": true, \"shapes\": [{\"fillcolor\": \"LightGreen\", \"layer\": \"below\", \"opacity\": 0.5, \"type\": \"rect\", \"x0\": 0, \"x1\": 1, \"xref\": \"paper\", \"y0\": 2.2700355690223044, \"y1\": 3.456631097644362, \"yref\": \"y\", \"line\": {\"width\": 0}}, {\"line\": {\"color\": \"green\", \"width\": 3}, \"name\": \"Reference\", \"type\": \"line\", \"x0\": 0, \"x1\": 1, \"xref\": \"paper\", \"y0\": 2.8633333333333333, \"y1\": 2.8633333333333333, \"yref\": \"y\"}]}}}, \"furniture_distr\": {\"data\": [{\"marker\": {\"color\": \"#4d4d4d\"}, \"name\": \"Reference\", \"opacity\": 0.6, \"x\": [\"semi-furnished\", \"fully-furnished\"], \"y\": [101, 49], \"type\": \"bar\"}, {\"marker\": {\"color\": \"#ed0400\"}, \"name\": \"Current\", \"opacity\": 0.6, \"x\": [\"semi-furnished\", \"fully-furnished\", \"un-furnished\"], \"y\": [38, 13, 2], \"type\": \"bar\"}], \"layout\": {\"legend\": {\"orientation\": \"h\", \"yanchor\": \"bottom\", \"y\": 1.02, \"xanchor\": \"right\", \"x\": 1}, \"xaxis\": {\"title\": {\"text\": \"furniture\"}}, \"yaxis\": {\"title\": {\"text\": \"Share\"}}}}, \"location_distr\": {\"data\": [{\"marker\": {\"color\": \"#4d4d4d\"}, \"name\": \"Reference\", \"opacity\": 0.6, \"x\": [\"Shital height, Imadol\", \"Tikathali, Lalitpur\", \"Budhanilkantha, Kathmandu\", \"Bhaisepati\", \"Shital Height\", \"Imadol\", \"Bhaisepati, Lalitpur\", \"Imadol, Lalitpur\", \"Sitapaila, Kathmandu\", \"Bhangal\", \"Jala binayak colony\", \"Dholahiti Lalitpur\", \"Sanobharyang\", \"Setipakha\", \"Sanagaun, Lalitpur\", \"Ochu Height\", \"Bafal, Kathmandu\", \"Pasikot, Budhanilkantha\", \"Hattigauda, Budhanilkantha\", \"Near LRI School\", \"Near Ganesh chowk\", \"Near Down Town Residency\", \"Manmohan hospital\", \"Chakku Mandir House\", \"Itumbahal,Yatkha \", \"Sudarsan Height\", \"Binayak Colony\", \"Samakhushi\", \"Nakkhu\", \"Paiyutar\", \"Simchaphat,Gurjudhara \", \"Imadol, Krishna Mandir\", \"Hepali Height\", \"Balkot, Bhaktapur\", \"Basundhara, Kathmandu\", \"Dhapakhel Height\", \"Syuchatar\", \"Lubhu, Lalitpur\", \"Swoyambhu, Karkhana Chowk\", \"Dhalmal\", \"Near to CG Lakeview Housing\", \"Khadka gaun\", \"Bakhundol, Lalitpur\", \"Sudal\", \"Dholahiti, Lalitpur\", \"Italitar, Budhanilkantha\", \"Bajradham Colony\", \"Near Talim Kendra\", \"Kritipur, Kathmandu\", \"Hattigauda\", \"Mantri Marga\", \"Sukedhara\", \"Hepali Heights\", \"Cozy Home\", \"Dreamz Homez Colony\", \"Veenas residency\", \"Mulpani\", \"Shankhamul\", \" Near karuna hospital\", \"Lasuntar\", \"Lasuntar, kapan\", \"Near karuna hospital \", \"Thapagaun\", \"Tej Binayak\", \"Gairigaun,  Duidhara\", \"Sano bharyang\", \"PASIKOT \", \"Tempo park\", \"Bojepokhari, Imadol\", \"Dallu, Kathmandu\", \"Gadatantra chowk , Saraswotinagar \", \"Harisiddhi\", \"Bhangal height\", \"Ganesh Chowk\", \"Naya Basti\", \"Raniban, Kathmandu\", \"Green Hill City\", \"Dhumbarahi\", \"Hattiban Housing\", \"Dhapakhel \", \"Cozy home\", \"Imadol, lalitpur\", \"Khadka Gau\", \"Satungal\", \"chappal karkhana\", \"Kalanki, Syuchatar \", \"Tinthana\", \"Pragati Colony\", \"Bhangal, budhanilkantha\", \"Padma Colony\", \"Taukhel, Ramkot\", \"Nakkhipot\", \"Mahalaxmisthan, Lagankhel\"], \"y\": [13, 8, 7, 7, 5, 5, 3, 3, 3, 2, 2, 2, 2, 2, 2, 2, 2, 2, 2, 2, 2, 1, 1, 1, 1, 1, 1, 1, 1, 1, 1, 1, 1, 1, 1, 1, 1, 1, 1, 1, 1, 1, 1, 1, 1, 1, 1, 1, 1, 1, 1, 1, 1, 1, 1, 1, 1, 1, 1, 1, 1, 1, 1, 1, 1, 1, 1, 1, 1, 1, 1, 1, 1, 1, 1, 1, 1, 1, 1, 1, 1, 1, 1, 1, 1, 1, 1, 1, 1, 1, 1, 1, 1], \"type\": \"bar\"}, {\"marker\": {\"color\": \"#ed0400\"}, \"name\": \"Current\", \"opacity\": 0.6, \"x\": [\"Tikathali, Lalitpur\", \"Rajkulo, Imadol\", \"Ochu Height\", \"Sanagaun, Lalitpur\", \"Near Triton college\", \"Rumba Chwok\", \"Yellow Gumba\", \"Manjurshree tole, bhaisepati\", \"Bhaisepati near Mediciti Hospital\", \"Bhaisepati near Mediciti hospital\", \"700 meter from Medicity hospital\", \"Radha krishna mandir\", \" Green Hill Academy and Milandhamsthali\", \"Balkumari\", \"Dhapakhel, lalitpur\", \"pasikot\", \"2.5 km from kalanki\", \"Sano bharyang Colony\", \"Sitapaila,Comfort housing\", \"Sanagaun, lalitpur\", \"Sanagau, Lalitpur\", \"Ochu Height, Imadol\", \"Ochu height, Imadol\", \"Shital height, Imadol\", \"Sano bharyang Colony,Ward no.2\", \"Deuba chowk, Budhanilkantha\", \"100 meters from Civil Home\", \"Shital Height, Imadol\", \"Namgyal Chowk\", \"Thankot, kathmandu\", \"Naikap, Basantatol \", \"Pasikot, budhanilkantha\", \"Sanepa, lalitpur\", \"Kathmandu ,Dhumbarai-4,Near pipal bot chowk.\", \"Tikathali, lalitpur\", \"1 km from deuba chowk\", \"Imadol Tempo Park\", \"Near LRI\", \"Halchowk, Single Tree\", \"Ishan Colony\", \"Sanepa Chowk\", \"Hattiban, Lalitpur\", \"near Bhatbhateni\", \"Mahalaxmi\", \"Sunrise Height, Raniban\", \"Kalanki, kathmandu\", \"Chandragiri\"], \"y\": [3, 3, 2, 2, 1, 1, 1, 1, 1, 1, 1, 1, 1, 1, 1, 1, 1, 1, 1, 1, 1, 1, 1, 1, 1, 1, 1, 1, 1, 1, 1, 1, 1, 1, 1, 1, 1, 1, 1, 1, 1, 1, 1, 1, 1, 1, 1], \"type\": \"bar\"}], \"layout\": {\"legend\": {\"orientation\": \"h\", \"yanchor\": \"bottom\", \"y\": 1.02, \"xanchor\": \"right\", \"x\": 1}, \"xaxis\": {\"title\": {\"text\": \"location\"}}, \"yaxis\": {\"title\": {\"text\": \"Share\"}}}}};\n",
       "</script>\n",
       "<script>\n",
       "function domReady(fn) {\n",
       "  // If we're early to the party\n",
       "  document.addEventListener(\"DOMContentLoaded\", fn);\n",
       "  // If late; I mean on time.\n",
       "  if (document.readyState === \"interactive\" || document.readyState === \"complete\" ) {\n",
       "    fn();\n",
       "  }\n",
       "}\n",
       "\n",
       "domReady(function () {\n",
       "    requirejs([\"evidently\"], function(ev) {\n",
       "        drawDashboard(evidently_dashboard_28ff6a49194d4231b7738c60390693ba,\n",
       "        new Map(Object.entries(additional_graphs_evidently_dashboard_28ff6a49194d4231b7738c60390693ba)),\n",
       "        \"root_evidently_dashboard_28ff6a49194d4231b7738c60390693ba\");\n",
       "    },\n",
       "    function(err) {\n",
       "        $(\"#root_evidently_dashboard_28ff6a49194d4231b7738c60390693ba\").innerHTML = \"Failed to load\";\n",
       "    })\n",
       "});\n",
       "</script>\n",
       "<div class=\"reset-this-parent\" id=\"root_evidently_dashboard_28ff6a49194d4231b7738c60390693ba\">Loading...</div>\n",
       "\n"
      ],
      "text/plain": [
       "<IPython.core.display.HTML object>"
      ]
     },
     "execution_count": 13,
     "metadata": {},
     "output_type": "execute_result"
    }
   ],
   "source": [
    "data_drift_dash.show()"
   ]
  },
  {
   "cell_type": "code",
   "execution_count": 14,
   "metadata": {},
   "outputs": [],
   "source": [
    "data_drift_dash.save('data_drift.html')"
   ]
  },
  {
   "cell_type": "code",
   "execution_count": null,
   "metadata": {},
   "outputs": [],
   "source": []
  }
 ],
 "metadata": {
  "kernelspec": {
   "display_name": "newenv",
   "language": "python",
   "name": "python3"
  },
  "language_info": {
   "codemirror_mode": {
    "name": "ipython",
    "version": 3
   },
   "file_extension": ".py",
   "mimetype": "text/x-python",
   "name": "python",
   "nbconvert_exporter": "python",
   "pygments_lexer": "ipython3",
   "version": "3.12.6"
  }
 },
 "nbformat": 4,
 "nbformat_minor": 2
}
