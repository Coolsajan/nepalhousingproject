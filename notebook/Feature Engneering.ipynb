{
 "cells": [
  {
   "cell_type": "markdown",
   "metadata": {},
   "source": [
    "### Feature Engeening of Housing Project"
   ]
  },
  {
   "cell_type": "markdown",
   "metadata": {},
   "source": [
    "#### Importing Necessary Liabries."
   ]
  },
  {
   "cell_type": "code",
   "execution_count": 55,
   "metadata": {},
   "outputs": [],
   "source": [
    "#data-manuplation\n",
    "import pandas as pd\n",
    "import numpy as np\n",
    "\n",
    "#ml_tools\n",
    "from sklearn.preprocessing import PowerTransformer,StandardScaler,OneHotEncoder,OrdinalEncoder\n",
    "from sklearn.model_selection import train_test_split,RandomizedSearchCV\n",
    "from sklearn.linear_model import LinearRegression,Lasso,Ridge,LogisticRegression,ElasticNet,Lasso\n",
    "from sklearn.tree import DecisionTreeRegressor\n",
    "from sklearn.compose import ColumnTransformer\n",
    "from sklearn.metrics import r2_score,mean_absolute_error,root_mean_squared_error\n",
    "\n",
    "#result_visualitation\n",
    "import seaborn as sns\n",
    "import matplotlib.pyplot as plt\n",
    "%matplotlib inline"
   ]
  },
  {
   "cell_type": "markdown",
   "metadata": {},
   "source": [
    "#### Loading dataset"
   ]
  },
  {
   "cell_type": "code",
   "execution_count": 56,
   "metadata": {},
   "outputs": [
    {
     "data": {
      "text/html": [
       "<div>\n",
       "<style scoped>\n",
       "    .dataframe tbody tr th:only-of-type {\n",
       "        vertical-align: middle;\n",
       "    }\n",
       "\n",
       "    .dataframe tbody tr th {\n",
       "        vertical-align: top;\n",
       "    }\n",
       "\n",
       "    .dataframe thead th {\n",
       "        text-align: right;\n",
       "    }\n",
       "</style>\n",
       "<table border=\"1\" class=\"dataframe\">\n",
       "  <thead>\n",
       "    <tr style=\"text-align: right;\">\n",
       "      <th></th>\n",
       "      <th>LOCATION</th>\n",
       "      <th>PRICE</th>\n",
       "      <th>LAND AREA</th>\n",
       "      <th>ROAD ACCESS</th>\n",
       "      <th>FACING</th>\n",
       "      <th>FLOOR</th>\n",
       "      <th>BEDROOM</th>\n",
       "      <th>BATHROOM</th>\n",
       "      <th>PROPERTY AGE</th>\n",
       "      <th>Air Condition</th>\n",
       "      <th>...</th>\n",
       "      <th>TV</th>\n",
       "      <th>TV Cable</th>\n",
       "      <th>Terrace</th>\n",
       "      <th>Washing Machine</th>\n",
       "      <th>Water Filter</th>\n",
       "      <th>Water Purifier</th>\n",
       "      <th>Water Supply</th>\n",
       "      <th>Water Tank</th>\n",
       "      <th>Water Well</th>\n",
       "      <th>Wifi</th>\n",
       "    </tr>\n",
       "  </thead>\n",
       "  <tbody>\n",
       "    <tr>\n",
       "      <th>0</th>\n",
       "      <td>Imadol, Lalitpur</td>\n",
       "      <td>29000000.0</td>\n",
       "      <td>1369.000</td>\n",
       "      <td>12.0</td>\n",
       "      <td>west</td>\n",
       "      <td>3.0</td>\n",
       "      <td>5.0</td>\n",
       "      <td>4.0</td>\n",
       "      <td>5.0</td>\n",
       "      <td>0</td>\n",
       "      <td>...</td>\n",
       "      <td>0</td>\n",
       "      <td>0</td>\n",
       "      <td>1</td>\n",
       "      <td>0</td>\n",
       "      <td>0</td>\n",
       "      <td>0</td>\n",
       "      <td>0</td>\n",
       "      <td>0</td>\n",
       "      <td>0</td>\n",
       "      <td>0</td>\n",
       "    </tr>\n",
       "    <tr>\n",
       "      <th>1</th>\n",
       "      <td>Satdobato, Lalitpur</td>\n",
       "      <td>47500000.0</td>\n",
       "      <td>1026.750</td>\n",
       "      <td>10.0</td>\n",
       "      <td>west</td>\n",
       "      <td>4.5</td>\n",
       "      <td>5.0</td>\n",
       "      <td>6.0</td>\n",
       "      <td>5.0</td>\n",
       "      <td>0</td>\n",
       "      <td>...</td>\n",
       "      <td>0</td>\n",
       "      <td>0</td>\n",
       "      <td>0</td>\n",
       "      <td>0</td>\n",
       "      <td>0</td>\n",
       "      <td>0</td>\n",
       "      <td>0</td>\n",
       "      <td>0</td>\n",
       "      <td>0</td>\n",
       "      <td>0</td>\n",
       "    </tr>\n",
       "    <tr>\n",
       "      <th>2</th>\n",
       "      <td>Imadol, Lalitpur</td>\n",
       "      <td>19900000.0</td>\n",
       "      <td>787.175</td>\n",
       "      <td>10.0</td>\n",
       "      <td>west</td>\n",
       "      <td>2.5</td>\n",
       "      <td>4.0</td>\n",
       "      <td>4.0</td>\n",
       "      <td>21.0</td>\n",
       "      <td>0</td>\n",
       "      <td>...</td>\n",
       "      <td>0</td>\n",
       "      <td>0</td>\n",
       "      <td>0</td>\n",
       "      <td>0</td>\n",
       "      <td>0</td>\n",
       "      <td>0</td>\n",
       "      <td>0</td>\n",
       "      <td>0</td>\n",
       "      <td>0</td>\n",
       "      <td>0</td>\n",
       "    </tr>\n",
       "    <tr>\n",
       "      <th>3</th>\n",
       "      <td>Bhaisepati, Lalitpur</td>\n",
       "      <td>40000000.0</td>\n",
       "      <td>2395.750</td>\n",
       "      <td>12.0</td>\n",
       "      <td>north-west</td>\n",
       "      <td>2.5</td>\n",
       "      <td>4.0</td>\n",
       "      <td>3.0</td>\n",
       "      <td>22.0</td>\n",
       "      <td>0</td>\n",
       "      <td>...</td>\n",
       "      <td>0</td>\n",
       "      <td>0</td>\n",
       "      <td>0</td>\n",
       "      <td>0</td>\n",
       "      <td>0</td>\n",
       "      <td>0</td>\n",
       "      <td>0</td>\n",
       "      <td>0</td>\n",
       "      <td>0</td>\n",
       "      <td>0</td>\n",
       "    </tr>\n",
       "    <tr>\n",
       "      <th>4</th>\n",
       "      <td>Bhaisepati, Lalitpur</td>\n",
       "      <td>33000000.0</td>\n",
       "      <td>1095.200</td>\n",
       "      <td>13.0</td>\n",
       "      <td>north-west</td>\n",
       "      <td>2.5</td>\n",
       "      <td>4.0</td>\n",
       "      <td>3.0</td>\n",
       "      <td>7.0</td>\n",
       "      <td>0</td>\n",
       "      <td>...</td>\n",
       "      <td>0</td>\n",
       "      <td>0</td>\n",
       "      <td>0</td>\n",
       "      <td>0</td>\n",
       "      <td>0</td>\n",
       "      <td>1</td>\n",
       "      <td>0</td>\n",
       "      <td>0</td>\n",
       "      <td>0</td>\n",
       "      <td>0</td>\n",
       "    </tr>\n",
       "  </tbody>\n",
       "</table>\n",
       "<p>5 rows × 80 columns</p>\n",
       "</div>"
      ],
      "text/plain": [
       "               LOCATION       PRICE  LAND AREA  ROAD ACCESS      FACING  \\\n",
       "0      Imadol, Lalitpur  29000000.0   1369.000         12.0        west   \n",
       "1   Satdobato, Lalitpur  47500000.0   1026.750         10.0        west   \n",
       "2      Imadol, Lalitpur  19900000.0    787.175         10.0        west   \n",
       "3  Bhaisepati, Lalitpur  40000000.0   2395.750         12.0  north-west   \n",
       "4  Bhaisepati, Lalitpur  33000000.0   1095.200         13.0  north-west   \n",
       "\n",
       "   FLOOR  BEDROOM  BATHROOM  PROPERTY AGE  Air Condition  ...  TV  TV Cable  \\\n",
       "0    3.0      5.0       4.0           5.0              0  ...   0         0   \n",
       "1    4.5      5.0       6.0           5.0              0  ...   0         0   \n",
       "2    2.5      4.0       4.0          21.0              0  ...   0         0   \n",
       "3    2.5      4.0       3.0          22.0              0  ...   0         0   \n",
       "4    2.5      4.0       3.0           7.0              0  ...   0         0   \n",
       "\n",
       "   Terrace  Washing Machine  Water Filter  Water Purifier  Water Supply  \\\n",
       "0        1                0             0               0             0   \n",
       "1        0                0             0               0             0   \n",
       "2        0                0             0               0             0   \n",
       "3        0                0             0               0             0   \n",
       "4        0                0             0               1             0   \n",
       "\n",
       "   Water Tank  Water Well  Wifi  \n",
       "0           0           0     0  \n",
       "1           0           0     0  \n",
       "2           0           0     0  \n",
       "3           0           0     0  \n",
       "4           0           0     0  \n",
       "\n",
       "[5 rows x 80 columns]"
      ]
     },
     "execution_count": 56,
     "metadata": {},
     "output_type": "execute_result"
    }
   ],
   "source": [
    "df=pd.read_csv(\"nepalhousing_dataset.csv\")\n",
    "df.head()"
   ]
  },
  {
   "cell_type": "markdown",
   "metadata": {},
   "source": [
    "##### FROM EDA we found the amminites has no much corelation with price so ,"
   ]
  },
  {
   "cell_type": "code",
   "execution_count": 57,
   "metadata": {},
   "outputs": [
    {
     "data": {
      "text/html": [
       "<div>\n",
       "<style scoped>\n",
       "    .dataframe tbody tr th:only-of-type {\n",
       "        vertical-align: middle;\n",
       "    }\n",
       "\n",
       "    .dataframe tbody tr th {\n",
       "        vertical-align: top;\n",
       "    }\n",
       "\n",
       "    .dataframe thead th {\n",
       "        text-align: right;\n",
       "    }\n",
       "</style>\n",
       "<table border=\"1\" class=\"dataframe\">\n",
       "  <thead>\n",
       "    <tr style=\"text-align: right;\">\n",
       "      <th></th>\n",
       "      <th>LOCATION</th>\n",
       "      <th>PRICE</th>\n",
       "      <th>LAND AREA</th>\n",
       "      <th>ROAD ACCESS</th>\n",
       "      <th>FACING</th>\n",
       "      <th>FLOOR</th>\n",
       "      <th>BEDROOM</th>\n",
       "      <th>BATHROOM</th>\n",
       "      <th>PROPERTY AGE</th>\n",
       "      <th>Air Condition</th>\n",
       "      <th>...</th>\n",
       "      <th>TV</th>\n",
       "      <th>TV Cable</th>\n",
       "      <th>Terrace</th>\n",
       "      <th>Washing Machine</th>\n",
       "      <th>Water Filter</th>\n",
       "      <th>Water Purifier</th>\n",
       "      <th>Water Supply</th>\n",
       "      <th>Water Tank</th>\n",
       "      <th>Water Well</th>\n",
       "      <th>Wifi</th>\n",
       "    </tr>\n",
       "  </thead>\n",
       "  <tbody>\n",
       "    <tr>\n",
       "      <th>0</th>\n",
       "      <td>Imadol, Lalitpur</td>\n",
       "      <td>29000000.0</td>\n",
       "      <td>1369.000</td>\n",
       "      <td>12.0</td>\n",
       "      <td>west</td>\n",
       "      <td>3.0</td>\n",
       "      <td>5.0</td>\n",
       "      <td>4.0</td>\n",
       "      <td>5.0</td>\n",
       "      <td>0</td>\n",
       "      <td>...</td>\n",
       "      <td>0</td>\n",
       "      <td>0</td>\n",
       "      <td>1</td>\n",
       "      <td>0</td>\n",
       "      <td>0</td>\n",
       "      <td>0</td>\n",
       "      <td>0</td>\n",
       "      <td>0</td>\n",
       "      <td>0</td>\n",
       "      <td>0</td>\n",
       "    </tr>\n",
       "    <tr>\n",
       "      <th>1</th>\n",
       "      <td>Satdobato, Lalitpur</td>\n",
       "      <td>47500000.0</td>\n",
       "      <td>1026.750</td>\n",
       "      <td>10.0</td>\n",
       "      <td>west</td>\n",
       "      <td>4.5</td>\n",
       "      <td>5.0</td>\n",
       "      <td>6.0</td>\n",
       "      <td>5.0</td>\n",
       "      <td>0</td>\n",
       "      <td>...</td>\n",
       "      <td>0</td>\n",
       "      <td>0</td>\n",
       "      <td>0</td>\n",
       "      <td>0</td>\n",
       "      <td>0</td>\n",
       "      <td>0</td>\n",
       "      <td>0</td>\n",
       "      <td>0</td>\n",
       "      <td>0</td>\n",
       "      <td>0</td>\n",
       "    </tr>\n",
       "    <tr>\n",
       "      <th>2</th>\n",
       "      <td>Imadol, Lalitpur</td>\n",
       "      <td>19900000.0</td>\n",
       "      <td>787.175</td>\n",
       "      <td>10.0</td>\n",
       "      <td>west</td>\n",
       "      <td>2.5</td>\n",
       "      <td>4.0</td>\n",
       "      <td>4.0</td>\n",
       "      <td>21.0</td>\n",
       "      <td>0</td>\n",
       "      <td>...</td>\n",
       "      <td>0</td>\n",
       "      <td>0</td>\n",
       "      <td>0</td>\n",
       "      <td>0</td>\n",
       "      <td>0</td>\n",
       "      <td>0</td>\n",
       "      <td>0</td>\n",
       "      <td>0</td>\n",
       "      <td>0</td>\n",
       "      <td>0</td>\n",
       "    </tr>\n",
       "    <tr>\n",
       "      <th>3</th>\n",
       "      <td>Bhaisepati, Lalitpur</td>\n",
       "      <td>40000000.0</td>\n",
       "      <td>2395.750</td>\n",
       "      <td>12.0</td>\n",
       "      <td>north-west</td>\n",
       "      <td>2.5</td>\n",
       "      <td>4.0</td>\n",
       "      <td>3.0</td>\n",
       "      <td>22.0</td>\n",
       "      <td>0</td>\n",
       "      <td>...</td>\n",
       "      <td>0</td>\n",
       "      <td>0</td>\n",
       "      <td>0</td>\n",
       "      <td>0</td>\n",
       "      <td>0</td>\n",
       "      <td>0</td>\n",
       "      <td>0</td>\n",
       "      <td>0</td>\n",
       "      <td>0</td>\n",
       "      <td>0</td>\n",
       "    </tr>\n",
       "    <tr>\n",
       "      <th>4</th>\n",
       "      <td>Bhaisepati, Lalitpur</td>\n",
       "      <td>33000000.0</td>\n",
       "      <td>1095.200</td>\n",
       "      <td>13.0</td>\n",
       "      <td>north-west</td>\n",
       "      <td>2.5</td>\n",
       "      <td>4.0</td>\n",
       "      <td>3.0</td>\n",
       "      <td>7.0</td>\n",
       "      <td>0</td>\n",
       "      <td>...</td>\n",
       "      <td>0</td>\n",
       "      <td>0</td>\n",
       "      <td>0</td>\n",
       "      <td>0</td>\n",
       "      <td>0</td>\n",
       "      <td>1</td>\n",
       "      <td>0</td>\n",
       "      <td>0</td>\n",
       "      <td>0</td>\n",
       "      <td>0</td>\n",
       "    </tr>\n",
       "  </tbody>\n",
       "</table>\n",
       "<p>5 rows × 80 columns</p>\n",
       "</div>"
      ],
      "text/plain": [
       "               LOCATION       PRICE  LAND AREA  ROAD ACCESS      FACING  \\\n",
       "0      Imadol, Lalitpur  29000000.0   1369.000         12.0        west   \n",
       "1   Satdobato, Lalitpur  47500000.0   1026.750         10.0        west   \n",
       "2      Imadol, Lalitpur  19900000.0    787.175         10.0        west   \n",
       "3  Bhaisepati, Lalitpur  40000000.0   2395.750         12.0  north-west   \n",
       "4  Bhaisepati, Lalitpur  33000000.0   1095.200         13.0  north-west   \n",
       "\n",
       "   FLOOR  BEDROOM  BATHROOM  PROPERTY AGE  Air Condition  ...  TV  TV Cable  \\\n",
       "0    3.0      5.0       4.0           5.0              0  ...   0         0   \n",
       "1    4.5      5.0       6.0           5.0              0  ...   0         0   \n",
       "2    2.5      4.0       4.0          21.0              0  ...   0         0   \n",
       "3    2.5      4.0       3.0          22.0              0  ...   0         0   \n",
       "4    2.5      4.0       3.0           7.0              0  ...   0         0   \n",
       "\n",
       "   Terrace  Washing Machine  Water Filter  Water Purifier  Water Supply  \\\n",
       "0        1                0             0               0             0   \n",
       "1        0                0             0               0             0   \n",
       "2        0                0             0               0             0   \n",
       "3        0                0             0               0             0   \n",
       "4        0                0             0               1             0   \n",
       "\n",
       "   Water Tank  Water Well  Wifi  \n",
       "0           0           0     0  \n",
       "1           0           0     0  \n",
       "2           0           0     0  \n",
       "3           0           0     0  \n",
       "4           0           0     0  \n",
       "\n",
       "[5 rows x 80 columns]"
      ]
     },
     "execution_count": 57,
     "metadata": {},
     "output_type": "execute_result"
    }
   ],
   "source": [
    "\n",
    "df.head()"
   ]
  },
  {
   "cell_type": "code",
   "execution_count": 58,
   "metadata": {},
   "outputs": [
    {
     "name": "stdout",
     "output_type": "stream",
     "text": [
      "<class 'pandas.core.frame.DataFrame'>\n",
      "RangeIndex: 5568 entries, 0 to 5567\n",
      "Data columns (total 80 columns):\n",
      " #   Column                Non-Null Count  Dtype  \n",
      "---  ------                --------------  -----  \n",
      " 0   LOCATION              5568 non-null   object \n",
      " 1   PRICE                 5244 non-null   float64\n",
      " 2   LAND AREA             5512 non-null   float64\n",
      " 3   ROAD ACCESS           5564 non-null   float64\n",
      " 4   FACING                5408 non-null   object \n",
      " 5   FLOOR                 5456 non-null   float64\n",
      " 6   BEDROOM               5152 non-null   float64\n",
      " 7   BATHROOM              5032 non-null   float64\n",
      " 8   PROPERTY AGE          5506 non-null   float64\n",
      " 9   Air Condition         5568 non-null   int64  \n",
      " 10  AirCon                5568 non-null   int64  \n",
      " 11  Amphitheatre          5568 non-null   int64  \n",
      " 12  Attic                 5568 non-null   int64  \n",
      " 13  Backyard              5568 non-null   int64  \n",
      " 14  Balcony               5568 non-null   int64  \n",
      " 15  Basement              5568 non-null   int64  \n",
      " 16  Bathroom              5568 non-null   int64  \n",
      " 17  Bathtub               5568 non-null   int64  \n",
      " 18  Bed Room              5568 non-null   int64  \n",
      " 19  Boring Water          5568 non-null   int64  \n",
      " 20  CC Camera             5568 non-null   int64  \n",
      " 21  CCTV                  5568 non-null   int64  \n",
      " 22  Cafeteria             5568 non-null   int64  \n",
      " 23  Closet                5568 non-null   int64  \n",
      " 24  Deck                  5568 non-null   int64  \n",
      " 25  Dining Room           5568 non-null   int64  \n",
      " 26  Drainage              5568 non-null   int64  \n",
      " 27  Drinking Water        5568 non-null   int64  \n",
      " 28  Earthquake Resistant  5568 non-null   int64  \n",
      " 29  Family Room           5568 non-null   int64  \n",
      " 30  Fencing               5568 non-null   int64  \n",
      " 31  Fire Place            5568 non-null   int64  \n",
      " 32  Fridge                5568 non-null   int64  \n",
      " 33  Frontyard             5568 non-null   int64  \n",
      " 34  Garage                5568 non-null   int64  \n",
      " 35  Garden                5568 non-null   int64  \n",
      " 36  Gazebo                5568 non-null   int64  \n",
      " 37  Guest Room            5568 non-null   int64  \n",
      " 38  Gym                   5568 non-null   int64  \n",
      " 39  Intercom              5568 non-null   int64  \n",
      " 40  Internet              5568 non-null   int64  \n",
      " 41  Iron                  5568 non-null   int64  \n",
      " 42  Jacuzzi               5568 non-null   int64  \n",
      " 43  Kids Playground       5568 non-null   int64  \n",
      " 44  Laundry Room          5568 non-null   int64  \n",
      " 45  Lawn                  5568 non-null   int64  \n",
      " 46  Lift                  5568 non-null   int64  \n",
      " 47  Living Room           5568 non-null   int64  \n",
      " 48  Maid Room             5568 non-null   int64  \n",
      " 49  Maintenance           5568 non-null   int64  \n",
      " 50  Marbel                5568 non-null   int64  \n",
      " 51  Master Bedroom        5568 non-null   int64  \n",
      " 52  MiCrowave             5568 non-null   int64  \n",
      " 53  Microwave             5568 non-null   int64  \n",
      " 54  Modular Kitchen       5568 non-null   int64  \n",
      " 55  Pantry                5568 non-null   int64  \n",
      " 56  Parking               5568 non-null   int64  \n",
      " 57  Parquet               5568 non-null   int64  \n",
      " 58  Playground            5568 non-null   int64  \n",
      " 59  Power Backup          5568 non-null   int64  \n",
      " 60  Power Backup Water    5568 non-null   int64  \n",
      " 61  Prayer Room           5568 non-null   int64  \n",
      " 62  Reserve Tank          5568 non-null   int64  \n",
      " 63  Security Staff        5568 non-null   int64  \n",
      " 64  Servant Quarter       5568 non-null   int64  \n",
      " 65  Servent Quarter       5568 non-null   int64  \n",
      " 66  Shutter               5568 non-null   int64  \n",
      " 67  Sofa                  5568 non-null   int64  \n",
      " 68  Store Room            5568 non-null   int64  \n",
      " 69  Swimming Pool         5568 non-null   int64  \n",
      " 70  TV                    5568 non-null   int64  \n",
      " 71  TV Cable              5568 non-null   int64  \n",
      " 72  Terrace               5568 non-null   int64  \n",
      " 73  Washing Machine       5568 non-null   int64  \n",
      " 74  Water Filter          5568 non-null   int64  \n",
      " 75  Water Purifier        5568 non-null   int64  \n",
      " 76  Water Supply          5568 non-null   int64  \n",
      " 77  Water Tank            5568 non-null   int64  \n",
      " 78  Water Well            5568 non-null   int64  \n",
      " 79  Wifi                  5568 non-null   int64  \n",
      "dtypes: float64(7), int64(71), object(2)\n",
      "memory usage: 3.4+ MB\n"
     ]
    }
   ],
   "source": [
    "df.info()"
   ]
  },
  {
   "cell_type": "code",
   "execution_count": 59,
   "metadata": {},
   "outputs": [
    {
     "data": {
      "text/plain": [
       "LOCATION            0\n",
       "PRICE             324\n",
       "LAND AREA          56\n",
       "ROAD ACCESS         4\n",
       "FACING            160\n",
       "                 ... \n",
       "Water Purifier      0\n",
       "Water Supply        0\n",
       "Water Tank          0\n",
       "Water Well          0\n",
       "Wifi                0\n",
       "Length: 80, dtype: int64"
      ]
     },
     "execution_count": 59,
     "metadata": {},
     "output_type": "execute_result"
    }
   ],
   "source": [
    "df.isnull().sum()"
   ]
  },
  {
   "cell_type": "code",
   "execution_count": 60,
   "metadata": {},
   "outputs": [
    {
     "name": "stdout",
     "output_type": "stream",
     "text": [
      "The minimun value of LOCATION is : BAFAL,  KATHMANDU\n",
      "The minimun value of PRICE is :2680000.0\n",
      "The minimun value of LAND AREA is :0.0\n",
      "The minimun value of ROAD ACCESS is :0.0\n",
      "The minimun value of FLOOR is :1.0\n",
      "The minimun value of BEDROOM is :1.0\n",
      "The minimun value of BATHROOM is :1.0\n",
      "The minimun value of PROPERTY AGE is :1.0\n",
      "The minimun value of Air Condition is :0\n",
      "The minimun value of AirCon is :0\n",
      "The minimun value of Amphitheatre is :0\n",
      "The minimun value of Attic is :0\n",
      "The minimun value of Backyard is :0\n",
      "The minimun value of Balcony is :0\n",
      "The minimun value of Basement is :0\n",
      "The minimun value of Bathroom is :0\n",
      "The minimun value of Bathtub is :0\n",
      "The minimun value of Bed Room is :0\n",
      "The minimun value of Boring Water is :0\n",
      "The minimun value of CC Camera is :0\n",
      "The minimun value of CCTV is :0\n",
      "The minimun value of Cafeteria is :0\n",
      "The minimun value of Closet is :0\n",
      "The minimun value of Deck is :0\n",
      "The minimun value of Dining Room is :0\n",
      "The minimun value of Drainage is :0\n",
      "The minimun value of Drinking Water is :0\n",
      "The minimun value of Earthquake Resistant is :0\n",
      "The minimun value of Family Room is :0\n",
      "The minimun value of Fencing is :0\n",
      "The minimun value of Fire Place is :0\n",
      "The minimun value of Fridge is :0\n",
      "The minimun value of Frontyard is :0\n",
      "The minimun value of Garage is :0\n",
      "The minimun value of Garden is :0\n",
      "The minimun value of Gazebo is :0\n",
      "The minimun value of Guest Room is :0\n",
      "The minimun value of Gym is :0\n",
      "The minimun value of Intercom is :0\n",
      "The minimun value of Internet is :0\n",
      "The minimun value of Iron is :0\n",
      "The minimun value of Jacuzzi is :0\n",
      "The minimun value of Kids Playground is :0\n",
      "The minimun value of Laundry Room is :0\n",
      "The minimun value of Lawn is :0\n",
      "The minimun value of Lift is :0\n",
      "The minimun value of Living Room is :0\n",
      "The minimun value of Maid Room is :0\n",
      "The minimun value of Maintenance is :0\n",
      "The minimun value of Marbel is :0\n",
      "The minimun value of Master Bedroom is :0\n",
      "The minimun value of MiCrowave is :0\n",
      "The minimun value of Microwave is :0\n",
      "The minimun value of Modular Kitchen is :0\n",
      "The minimun value of Pantry is :0\n",
      "The minimun value of Parking is :0\n",
      "The minimun value of Parquet is :0\n",
      "The minimun value of Playground is :0\n",
      "The minimun value of Power Backup is :0\n",
      "The minimun value of Power Backup Water is :0\n",
      "The minimun value of Prayer Room is :0\n",
      "The minimun value of Reserve Tank is :0\n",
      "The minimun value of Security Staff is :0\n",
      "The minimun value of Servant Quarter is :0\n",
      "The minimun value of Servent Quarter is :0\n",
      "The minimun value of Shutter is :0\n",
      "The minimun value of Sofa is :0\n",
      "The minimun value of Store Room is :0\n",
      "The minimun value of Swimming Pool is :0\n",
      "The minimun value of TV is :0\n",
      "The minimun value of TV Cable is :0\n",
      "The minimun value of Terrace is :0\n",
      "The minimun value of Washing Machine is :0\n",
      "The minimun value of Water Filter is :0\n",
      "The minimun value of Water Purifier is :0\n",
      "The minimun value of Water Supply is :0\n",
      "The minimun value of Water Tank is :0\n",
      "The minimun value of Water Well is :0\n",
      "The minimun value of Wifi is :0\n"
     ]
    }
   ],
   "source": [
    "for feature in df.columns:\n",
    "    try:\n",
    "        print(f\"The minimun value of {feature} is :{df[feature].min()}\")\n",
    "    except: pass"
   ]
  },
  {
   "cell_type": "code",
   "execution_count": 61,
   "metadata": {},
   "outputs": [],
   "source": [
    "df['LAND AREA']=df['LAND AREA'].replace(to_replace={0:np.nan,2.5:np.nan,4.2:np.nan,4.5:np.nan,9.25:np.nan})"
   ]
  },
  {
   "cell_type": "markdown",
   "metadata": {},
   "source": [
    "### FEATURE EXTRACTION"
   ]
  },
  {
   "cell_type": "code",
   "execution_count": 62,
   "metadata": {},
   "outputs": [],
   "source": [
    "df[\"CITY\"]=df[\"LOCATION\"].str.split(\",\").str[1]"
   ]
  },
  {
   "cell_type": "code",
   "execution_count": 63,
   "metadata": {},
   "outputs": [],
   "source": [
    "df[\"LOCATION\"]=df[\"LOCATION\"].str.split(\",\").str[0]"
   ]
  },
  {
   "cell_type": "markdown",
   "metadata": {},
   "source": [
    "#### SIMPLE IMPUTER"
   ]
  },
  {
   "cell_type": "code",
   "execution_count": 64,
   "metadata": {},
   "outputs": [],
   "source": [
    "df['ROAD ACCESS']=df['ROAD ACCESS'].fillna(value=df['ROAD ACCESS'].median())\n",
    "df['FACING']=df['FACING'].fillna(value=df['FACING'].mode()[0])\n",
    "df['FLOOR']=df['FLOOR'].fillna(value=df['FLOOR'].median())\n",
    "df['BEDROOM']=df['BEDROOM'].fillna(value=df['BEDROOM'].median())\n",
    "df['BATHROOM']=df['BATHROOM'].fillna(value=df['BATHROOM'].median())"
   ]
  },
  {
   "cell_type": "markdown",
   "metadata": {},
   "source": [
    "#### DROPNA"
   ]
  },
  {
   "cell_type": "code",
   "execution_count": 65,
   "metadata": {},
   "outputs": [],
   "source": [
    "df=df.dropna()"
   ]
  },
  {
   "cell_type": "code",
   "execution_count": 66,
   "metadata": {},
   "outputs": [
    {
     "data": {
      "text/plain": [
       "(5140, 81)"
      ]
     },
     "execution_count": 66,
     "metadata": {},
     "output_type": "execute_result"
    }
   ],
   "source": [
    "df.shape"
   ]
  },
  {
   "cell_type": "code",
   "execution_count": 67,
   "metadata": {},
   "outputs": [],
   "source": [
    "#df=df.drop_duplicates()"
   ]
  },
  {
   "cell_type": "markdown",
   "metadata": {},
   "source": [
    "#### NUMERICAL FEATURES\n"
   ]
  },
  {
   "cell_type": "code",
   "execution_count": 68,
   "metadata": {},
   "outputs": [
    {
     "name": "stdout",
     "output_type": "stream",
     "text": [
      "Num of Numerical Features : 78\n"
     ]
    }
   ],
   "source": [
    "num_features = [feature for feature in df.columns if df[feature].dtype != 'O']\n",
    "print('Num of Numerical Features :', len(num_features))"
   ]
  },
  {
   "cell_type": "markdown",
   "metadata": {},
   "source": [
    "#### CATEGORICAL FEATURES"
   ]
  },
  {
   "cell_type": "code",
   "execution_count": 69,
   "metadata": {},
   "outputs": [
    {
     "name": "stdout",
     "output_type": "stream",
     "text": [
      "Num of Categorical Features : 3\n"
     ]
    }
   ],
   "source": [
    "cat_features = [feature for feature in df.columns if df[feature].dtype == 'O']\n",
    "print('Num of Categorical Features :', len(cat_features))"
   ]
  },
  {
   "cell_type": "code",
   "execution_count": 70,
   "metadata": {},
   "outputs": [
    {
     "data": {
      "text/html": [
       "<div>\n",
       "<style scoped>\n",
       "    .dataframe tbody tr th:only-of-type {\n",
       "        vertical-align: middle;\n",
       "    }\n",
       "\n",
       "    .dataframe tbody tr th {\n",
       "        vertical-align: top;\n",
       "    }\n",
       "\n",
       "    .dataframe thead th {\n",
       "        text-align: right;\n",
       "    }\n",
       "</style>\n",
       "<table border=\"1\" class=\"dataframe\">\n",
       "  <thead>\n",
       "    <tr style=\"text-align: right;\">\n",
       "      <th></th>\n",
       "      <th>LOCATION</th>\n",
       "      <th>PRICE</th>\n",
       "      <th>LAND AREA</th>\n",
       "      <th>ROAD ACCESS</th>\n",
       "      <th>FACING</th>\n",
       "      <th>FLOOR</th>\n",
       "      <th>BEDROOM</th>\n",
       "      <th>BATHROOM</th>\n",
       "      <th>PROPERTY AGE</th>\n",
       "      <th>Air Condition</th>\n",
       "      <th>...</th>\n",
       "      <th>TV Cable</th>\n",
       "      <th>Terrace</th>\n",
       "      <th>Washing Machine</th>\n",
       "      <th>Water Filter</th>\n",
       "      <th>Water Purifier</th>\n",
       "      <th>Water Supply</th>\n",
       "      <th>Water Tank</th>\n",
       "      <th>Water Well</th>\n",
       "      <th>Wifi</th>\n",
       "      <th>CITY</th>\n",
       "    </tr>\n",
       "  </thead>\n",
       "  <tbody>\n",
       "    <tr>\n",
       "      <th>0</th>\n",
       "      <td>Imadol</td>\n",
       "      <td>29000000.0</td>\n",
       "      <td>1369.000</td>\n",
       "      <td>12.0</td>\n",
       "      <td>west</td>\n",
       "      <td>3.0</td>\n",
       "      <td>5.0</td>\n",
       "      <td>4.0</td>\n",
       "      <td>5.0</td>\n",
       "      <td>0</td>\n",
       "      <td>...</td>\n",
       "      <td>0</td>\n",
       "      <td>1</td>\n",
       "      <td>0</td>\n",
       "      <td>0</td>\n",
       "      <td>0</td>\n",
       "      <td>0</td>\n",
       "      <td>0</td>\n",
       "      <td>0</td>\n",
       "      <td>0</td>\n",
       "      <td>Lalitpur</td>\n",
       "    </tr>\n",
       "    <tr>\n",
       "      <th>1</th>\n",
       "      <td>Satdobato</td>\n",
       "      <td>47500000.0</td>\n",
       "      <td>1026.750</td>\n",
       "      <td>10.0</td>\n",
       "      <td>west</td>\n",
       "      <td>4.5</td>\n",
       "      <td>5.0</td>\n",
       "      <td>6.0</td>\n",
       "      <td>5.0</td>\n",
       "      <td>0</td>\n",
       "      <td>...</td>\n",
       "      <td>0</td>\n",
       "      <td>0</td>\n",
       "      <td>0</td>\n",
       "      <td>0</td>\n",
       "      <td>0</td>\n",
       "      <td>0</td>\n",
       "      <td>0</td>\n",
       "      <td>0</td>\n",
       "      <td>0</td>\n",
       "      <td>Lalitpur</td>\n",
       "    </tr>\n",
       "    <tr>\n",
       "      <th>2</th>\n",
       "      <td>Imadol</td>\n",
       "      <td>19900000.0</td>\n",
       "      <td>787.175</td>\n",
       "      <td>10.0</td>\n",
       "      <td>west</td>\n",
       "      <td>2.5</td>\n",
       "      <td>4.0</td>\n",
       "      <td>4.0</td>\n",
       "      <td>21.0</td>\n",
       "      <td>0</td>\n",
       "      <td>...</td>\n",
       "      <td>0</td>\n",
       "      <td>0</td>\n",
       "      <td>0</td>\n",
       "      <td>0</td>\n",
       "      <td>0</td>\n",
       "      <td>0</td>\n",
       "      <td>0</td>\n",
       "      <td>0</td>\n",
       "      <td>0</td>\n",
       "      <td>Lalitpur</td>\n",
       "    </tr>\n",
       "    <tr>\n",
       "      <th>3</th>\n",
       "      <td>Bhaisepati</td>\n",
       "      <td>40000000.0</td>\n",
       "      <td>2395.750</td>\n",
       "      <td>12.0</td>\n",
       "      <td>north-west</td>\n",
       "      <td>2.5</td>\n",
       "      <td>4.0</td>\n",
       "      <td>3.0</td>\n",
       "      <td>22.0</td>\n",
       "      <td>0</td>\n",
       "      <td>...</td>\n",
       "      <td>0</td>\n",
       "      <td>0</td>\n",
       "      <td>0</td>\n",
       "      <td>0</td>\n",
       "      <td>0</td>\n",
       "      <td>0</td>\n",
       "      <td>0</td>\n",
       "      <td>0</td>\n",
       "      <td>0</td>\n",
       "      <td>Lalitpur</td>\n",
       "    </tr>\n",
       "    <tr>\n",
       "      <th>4</th>\n",
       "      <td>Bhaisepati</td>\n",
       "      <td>33000000.0</td>\n",
       "      <td>1095.200</td>\n",
       "      <td>13.0</td>\n",
       "      <td>north-west</td>\n",
       "      <td>2.5</td>\n",
       "      <td>4.0</td>\n",
       "      <td>3.0</td>\n",
       "      <td>7.0</td>\n",
       "      <td>0</td>\n",
       "      <td>...</td>\n",
       "      <td>0</td>\n",
       "      <td>0</td>\n",
       "      <td>0</td>\n",
       "      <td>0</td>\n",
       "      <td>1</td>\n",
       "      <td>0</td>\n",
       "      <td>0</td>\n",
       "      <td>0</td>\n",
       "      <td>0</td>\n",
       "      <td>Lalitpur</td>\n",
       "    </tr>\n",
       "    <tr>\n",
       "      <th>...</th>\n",
       "      <td>...</td>\n",
       "      <td>...</td>\n",
       "      <td>...</td>\n",
       "      <td>...</td>\n",
       "      <td>...</td>\n",
       "      <td>...</td>\n",
       "      <td>...</td>\n",
       "      <td>...</td>\n",
       "      <td>...</td>\n",
       "      <td>...</td>\n",
       "      <td>...</td>\n",
       "      <td>...</td>\n",
       "      <td>...</td>\n",
       "      <td>...</td>\n",
       "      <td>...</td>\n",
       "      <td>...</td>\n",
       "      <td>...</td>\n",
       "      <td>...</td>\n",
       "      <td>...</td>\n",
       "      <td>...</td>\n",
       "      <td>...</td>\n",
       "    </tr>\n",
       "    <tr>\n",
       "      <th>5563</th>\n",
       "      <td>Sitapiala</td>\n",
       "      <td>26000000.0</td>\n",
       "      <td>1540.125</td>\n",
       "      <td>16.0</td>\n",
       "      <td>north</td>\n",
       "      <td>2.5</td>\n",
       "      <td>4.0</td>\n",
       "      <td>4.0</td>\n",
       "      <td>5.0</td>\n",
       "      <td>0</td>\n",
       "      <td>...</td>\n",
       "      <td>0</td>\n",
       "      <td>0</td>\n",
       "      <td>0</td>\n",
       "      <td>0</td>\n",
       "      <td>0</td>\n",
       "      <td>0</td>\n",
       "      <td>0</td>\n",
       "      <td>0</td>\n",
       "      <td>0</td>\n",
       "      <td>Kathmandu</td>\n",
       "    </tr>\n",
       "    <tr>\n",
       "      <th>5564</th>\n",
       "      <td>Bhatbhateni</td>\n",
       "      <td>30000000.0</td>\n",
       "      <td>1540.125</td>\n",
       "      <td>16.0</td>\n",
       "      <td>south</td>\n",
       "      <td>3.0</td>\n",
       "      <td>3.0</td>\n",
       "      <td>3.0</td>\n",
       "      <td>5.0</td>\n",
       "      <td>0</td>\n",
       "      <td>...</td>\n",
       "      <td>0</td>\n",
       "      <td>0</td>\n",
       "      <td>0</td>\n",
       "      <td>0</td>\n",
       "      <td>0</td>\n",
       "      <td>0</td>\n",
       "      <td>0</td>\n",
       "      <td>0</td>\n",
       "      <td>0</td>\n",
       "      <td>Kathmandu</td>\n",
       "    </tr>\n",
       "    <tr>\n",
       "      <th>5565</th>\n",
       "      <td>Syuchatar</td>\n",
       "      <td>16000000.0</td>\n",
       "      <td>1608.575</td>\n",
       "      <td>16.0</td>\n",
       "      <td>south</td>\n",
       "      <td>2.5</td>\n",
       "      <td>4.0</td>\n",
       "      <td>2.0</td>\n",
       "      <td>9.0</td>\n",
       "      <td>0</td>\n",
       "      <td>...</td>\n",
       "      <td>0</td>\n",
       "      <td>0</td>\n",
       "      <td>0</td>\n",
       "      <td>0</td>\n",
       "      <td>0</td>\n",
       "      <td>0</td>\n",
       "      <td>0</td>\n",
       "      <td>0</td>\n",
       "      <td>0</td>\n",
       "      <td>Kathmandu</td>\n",
       "    </tr>\n",
       "    <tr>\n",
       "      <th>5566</th>\n",
       "      <td>Sano Bharayang</td>\n",
       "      <td>35000000.0</td>\n",
       "      <td>2156.175</td>\n",
       "      <td>16.0</td>\n",
       "      <td>north-west</td>\n",
       "      <td>2.5</td>\n",
       "      <td>5.0</td>\n",
       "      <td>3.0</td>\n",
       "      <td>4.0</td>\n",
       "      <td>1</td>\n",
       "      <td>...</td>\n",
       "      <td>1</td>\n",
       "      <td>0</td>\n",
       "      <td>1</td>\n",
       "      <td>0</td>\n",
       "      <td>0</td>\n",
       "      <td>1</td>\n",
       "      <td>1</td>\n",
       "      <td>1</td>\n",
       "      <td>1</td>\n",
       "      <td>Kathmandu</td>\n",
       "    </tr>\n",
       "    <tr>\n",
       "      <th>5567</th>\n",
       "      <td>Budhanilkantha</td>\n",
       "      <td>48000000.0</td>\n",
       "      <td>2738.000</td>\n",
       "      <td>16.0</td>\n",
       "      <td>north</td>\n",
       "      <td>2.0</td>\n",
       "      <td>5.0</td>\n",
       "      <td>4.0</td>\n",
       "      <td>6.0</td>\n",
       "      <td>0</td>\n",
       "      <td>...</td>\n",
       "      <td>0</td>\n",
       "      <td>0</td>\n",
       "      <td>0</td>\n",
       "      <td>0</td>\n",
       "      <td>0</td>\n",
       "      <td>0</td>\n",
       "      <td>0</td>\n",
       "      <td>0</td>\n",
       "      <td>0</td>\n",
       "      <td>Kathmandu</td>\n",
       "    </tr>\n",
       "  </tbody>\n",
       "</table>\n",
       "<p>5140 rows × 81 columns</p>\n",
       "</div>"
      ],
      "text/plain": [
       "             LOCATION       PRICE  LAND AREA  ROAD ACCESS      FACING  FLOOR  \\\n",
       "0              Imadol  29000000.0   1369.000         12.0        west    3.0   \n",
       "1           Satdobato  47500000.0   1026.750         10.0        west    4.5   \n",
       "2              Imadol  19900000.0    787.175         10.0        west    2.5   \n",
       "3          Bhaisepati  40000000.0   2395.750         12.0  north-west    2.5   \n",
       "4          Bhaisepati  33000000.0   1095.200         13.0  north-west    2.5   \n",
       "...               ...         ...        ...          ...         ...    ...   \n",
       "5563        Sitapiala  26000000.0   1540.125         16.0       north    2.5   \n",
       "5564      Bhatbhateni  30000000.0   1540.125         16.0       south    3.0   \n",
       "5565        Syuchatar  16000000.0   1608.575         16.0       south    2.5   \n",
       "5566   Sano Bharayang  35000000.0   2156.175         16.0  north-west    2.5   \n",
       "5567   Budhanilkantha  48000000.0   2738.000         16.0       north    2.0   \n",
       "\n",
       "      BEDROOM  BATHROOM  PROPERTY AGE  Air Condition  ...  TV Cable  Terrace  \\\n",
       "0         5.0       4.0           5.0              0  ...         0        1   \n",
       "1         5.0       6.0           5.0              0  ...         0        0   \n",
       "2         4.0       4.0          21.0              0  ...         0        0   \n",
       "3         4.0       3.0          22.0              0  ...         0        0   \n",
       "4         4.0       3.0           7.0              0  ...         0        0   \n",
       "...       ...       ...           ...            ...  ...       ...      ...   \n",
       "5563      4.0       4.0           5.0              0  ...         0        0   \n",
       "5564      3.0       3.0           5.0              0  ...         0        0   \n",
       "5565      4.0       2.0           9.0              0  ...         0        0   \n",
       "5566      5.0       3.0           4.0              1  ...         1        0   \n",
       "5567      5.0       4.0           6.0              0  ...         0        0   \n",
       "\n",
       "      Washing Machine  Water Filter  Water Purifier  Water Supply  Water Tank  \\\n",
       "0                   0             0               0             0           0   \n",
       "1                   0             0               0             0           0   \n",
       "2                   0             0               0             0           0   \n",
       "3                   0             0               0             0           0   \n",
       "4                   0             0               1             0           0   \n",
       "...               ...           ...             ...           ...         ...   \n",
       "5563                0             0               0             0           0   \n",
       "5564                0             0               0             0           0   \n",
       "5565                0             0               0             0           0   \n",
       "5566                1             0               0             1           1   \n",
       "5567                0             0               0             0           0   \n",
       "\n",
       "      Water Well  Wifi         CITY  \n",
       "0              0     0     Lalitpur  \n",
       "1              0     0     Lalitpur  \n",
       "2              0     0     Lalitpur  \n",
       "3              0     0     Lalitpur  \n",
       "4              0     0     Lalitpur  \n",
       "...          ...   ...          ...  \n",
       "5563           0     0    Kathmandu  \n",
       "5564           0     0    Kathmandu  \n",
       "5565           0     0    Kathmandu  \n",
       "5566           1     1    Kathmandu  \n",
       "5567           0     0    Kathmandu  \n",
       "\n",
       "[5140 rows x 81 columns]"
      ]
     },
     "execution_count": 70,
     "metadata": {},
     "output_type": "execute_result"
    }
   ],
   "source": [
    "df"
   ]
  },
  {
   "cell_type": "code",
   "execution_count": 71,
   "metadata": {},
   "outputs": [],
   "source": [
    "df[\"CITY\"]=df[\"CITY\"].apply(lambda x:x.lower())\n",
    "df[\"CITY\"]=df[\"CITY\"].str.replace(' ', '', regex=True)"
   ]
  },
  {
   "cell_type": "markdown",
   "metadata": {},
   "source": []
  },
  {
   "cell_type": "code",
   "execution_count": 72,
   "metadata": {},
   "outputs": [
    {
     "data": {
      "text/html": [
       "<div>\n",
       "<style scoped>\n",
       "    .dataframe tbody tr th:only-of-type {\n",
       "        vertical-align: middle;\n",
       "    }\n",
       "\n",
       "    .dataframe tbody tr th {\n",
       "        vertical-align: top;\n",
       "    }\n",
       "\n",
       "    .dataframe thead th {\n",
       "        text-align: right;\n",
       "    }\n",
       "</style>\n",
       "<table border=\"1\" class=\"dataframe\">\n",
       "  <thead>\n",
       "    <tr style=\"text-align: right;\">\n",
       "      <th></th>\n",
       "      <th>LOCATION</th>\n",
       "      <th>PRICE</th>\n",
       "      <th>LAND AREA</th>\n",
       "      <th>ROAD ACCESS</th>\n",
       "      <th>FACING</th>\n",
       "      <th>FLOOR</th>\n",
       "      <th>BEDROOM</th>\n",
       "      <th>BATHROOM</th>\n",
       "      <th>PROPERTY AGE</th>\n",
       "      <th>Air Condition</th>\n",
       "      <th>...</th>\n",
       "      <th>TV Cable</th>\n",
       "      <th>Terrace</th>\n",
       "      <th>Washing Machine</th>\n",
       "      <th>Water Filter</th>\n",
       "      <th>Water Purifier</th>\n",
       "      <th>Water Supply</th>\n",
       "      <th>Water Tank</th>\n",
       "      <th>Water Well</th>\n",
       "      <th>Wifi</th>\n",
       "      <th>CITY</th>\n",
       "    </tr>\n",
       "  </thead>\n",
       "  <tbody>\n",
       "    <tr>\n",
       "      <th>704</th>\n",
       "      <td>Tikathali</td>\n",
       "      <td>25000000.0</td>\n",
       "      <td>1060.975</td>\n",
       "      <td>13.0</td>\n",
       "      <td>north</td>\n",
       "      <td>2.5</td>\n",
       "      <td>6.0</td>\n",
       "      <td>3.0</td>\n",
       "      <td>25.0</td>\n",
       "      <td>0</td>\n",
       "      <td>...</td>\n",
       "      <td>0</td>\n",
       "      <td>0</td>\n",
       "      <td>0</td>\n",
       "      <td>0</td>\n",
       "      <td>0</td>\n",
       "      <td>0</td>\n",
       "      <td>0</td>\n",
       "      <td>0</td>\n",
       "      <td>0</td>\n",
       "      <td>lalitpur</td>\n",
       "    </tr>\n",
       "    <tr>\n",
       "      <th>2235</th>\n",
       "      <td>Thulobharyang</td>\n",
       "      <td>24000000.0</td>\n",
       "      <td>1095.200</td>\n",
       "      <td>16.0</td>\n",
       "      <td>west</td>\n",
       "      <td>2.0</td>\n",
       "      <td>5.0</td>\n",
       "      <td>2.0</td>\n",
       "      <td>21.0</td>\n",
       "      <td>0</td>\n",
       "      <td>...</td>\n",
       "      <td>0</td>\n",
       "      <td>0</td>\n",
       "      <td>0</td>\n",
       "      <td>0</td>\n",
       "      <td>0</td>\n",
       "      <td>0</td>\n",
       "      <td>0</td>\n",
       "      <td>0</td>\n",
       "      <td>0</td>\n",
       "      <td>kathmandu</td>\n",
       "    </tr>\n",
       "    <tr>\n",
       "      <th>2107</th>\n",
       "      <td>Sanobharyang</td>\n",
       "      <td>18500000.0</td>\n",
       "      <td>1745.475</td>\n",
       "      <td>12.0</td>\n",
       "      <td>south</td>\n",
       "      <td>2.5</td>\n",
       "      <td>7.0</td>\n",
       "      <td>3.0</td>\n",
       "      <td>13.0</td>\n",
       "      <td>0</td>\n",
       "      <td>...</td>\n",
       "      <td>0</td>\n",
       "      <td>0</td>\n",
       "      <td>0</td>\n",
       "      <td>0</td>\n",
       "      <td>0</td>\n",
       "      <td>0</td>\n",
       "      <td>0</td>\n",
       "      <td>0</td>\n",
       "      <td>0</td>\n",
       "      <td>kathmandu</td>\n",
       "    </tr>\n",
       "    <tr>\n",
       "      <th>4058</th>\n",
       "      <td>Greenhill City</td>\n",
       "      <td>25500000.0</td>\n",
       "      <td>1369.000</td>\n",
       "      <td>13.0</td>\n",
       "      <td>south</td>\n",
       "      <td>3.0</td>\n",
       "      <td>5.0</td>\n",
       "      <td>2.0</td>\n",
       "      <td>11.0</td>\n",
       "      <td>0</td>\n",
       "      <td>...</td>\n",
       "      <td>0</td>\n",
       "      <td>0</td>\n",
       "      <td>0</td>\n",
       "      <td>0</td>\n",
       "      <td>0</td>\n",
       "      <td>0</td>\n",
       "      <td>0</td>\n",
       "      <td>0</td>\n",
       "      <td>0</td>\n",
       "      <td>kathmandu</td>\n",
       "    </tr>\n",
       "    <tr>\n",
       "      <th>3681</th>\n",
       "      <td>Sukedhara</td>\n",
       "      <td>39800000.0</td>\n",
       "      <td>2053.500</td>\n",
       "      <td>12.0</td>\n",
       "      <td>south</td>\n",
       "      <td>2.5</td>\n",
       "      <td>4.0</td>\n",
       "      <td>4.0</td>\n",
       "      <td>7.0</td>\n",
       "      <td>0</td>\n",
       "      <td>...</td>\n",
       "      <td>0</td>\n",
       "      <td>0</td>\n",
       "      <td>0</td>\n",
       "      <td>0</td>\n",
       "      <td>0</td>\n",
       "      <td>0</td>\n",
       "      <td>0</td>\n",
       "      <td>0</td>\n",
       "      <td>0</td>\n",
       "      <td>kathmandu</td>\n",
       "    </tr>\n",
       "  </tbody>\n",
       "</table>\n",
       "<p>5 rows × 81 columns</p>\n",
       "</div>"
      ],
      "text/plain": [
       "            LOCATION       PRICE  LAND AREA  ROAD ACCESS FACING  FLOOR  \\\n",
       "704        Tikathali  25000000.0   1060.975         13.0  north    2.5   \n",
       "2235   Thulobharyang  24000000.0   1095.200         16.0   west    2.0   \n",
       "2107    Sanobharyang  18500000.0   1745.475         12.0  south    2.5   \n",
       "4058  Greenhill City  25500000.0   1369.000         13.0  south    3.0   \n",
       "3681       Sukedhara  39800000.0   2053.500         12.0  south    2.5   \n",
       "\n",
       "      BEDROOM  BATHROOM  PROPERTY AGE  Air Condition  ...  TV Cable  Terrace  \\\n",
       "704       6.0       3.0          25.0              0  ...         0        0   \n",
       "2235      5.0       2.0          21.0              0  ...         0        0   \n",
       "2107      7.0       3.0          13.0              0  ...         0        0   \n",
       "4058      5.0       2.0          11.0              0  ...         0        0   \n",
       "3681      4.0       4.0           7.0              0  ...         0        0   \n",
       "\n",
       "      Washing Machine  Water Filter  Water Purifier  Water Supply  Water Tank  \\\n",
       "704                 0             0               0             0           0   \n",
       "2235                0             0               0             0           0   \n",
       "2107                0             0               0             0           0   \n",
       "4058                0             0               0             0           0   \n",
       "3681                0             0               0             0           0   \n",
       "\n",
       "      Water Well  Wifi       CITY  \n",
       "704            0     0   lalitpur  \n",
       "2235           0     0  kathmandu  \n",
       "2107           0     0  kathmandu  \n",
       "4058           0     0  kathmandu  \n",
       "3681           0     0  kathmandu  \n",
       "\n",
       "[5 rows x 81 columns]"
      ]
     },
     "execution_count": 72,
     "metadata": {},
     "output_type": "execute_result"
    }
   ],
   "source": [
    "df.sample(5)"
   ]
  },
  {
   "cell_type": "code",
   "execution_count": 73,
   "metadata": {},
   "outputs": [],
   "source": [
    "df=df[df[\"CITY\"].isin(['kathmandu',\"lalitpur\",\"bhaktapur\"])]\n"
   ]
  },
  {
   "cell_type": "markdown",
   "metadata": {},
   "source": [
    "#### SPLITING DF INTO X AND Y\n",
    "* X - are the features that are dependent\n",
    "* y- is the target feature."
   ]
  },
  {
   "cell_type": "code",
   "execution_count": 74,
   "metadata": {},
   "outputs": [],
   "source": [
    "X=df.drop(columns=\"PRICE\",axis=1)\n",
    "y=df[\"PRICE\"]"
   ]
  },
  {
   "cell_type": "markdown",
   "metadata": {},
   "source": [
    "#### CHECKING SKEWNESS\n",
    "* Skewness refers to a distortion or asymmetry that deviates from the symmetrical bell curve, or normal distribution, in a set of data. If the curve is shifted to the left or to the right, it is said to be skewed. Skewness can be quantified as a representation of the extent to which a given distribution varies from a normal distribution. A normal distribution has a skew of zero"
   ]
  },
  {
   "cell_type": "code",
   "execution_count": 75,
   "metadata": {},
   "outputs": [
    {
     "data": {
      "text/plain": [
       "LAND AREA         10.652894\n",
       "ROAD ACCESS       24.187884\n",
       "FLOOR              1.649635\n",
       "BEDROOM            4.493972\n",
       "BATHROOM           5.779581\n",
       "                    ...    \n",
       "Water Purifier     5.462727\n",
       "Water Supply       4.116420\n",
       "Water Tank         4.618926\n",
       "Water Well         3.416997\n",
       "Wifi               5.667263\n",
       "Length: 77, dtype: float64"
      ]
     },
     "execution_count": 75,
     "metadata": {},
     "output_type": "execute_result"
    }
   ],
   "source": [
    "X.skew(numeric_only=True)"
   ]
  },
  {
   "cell_type": "markdown",
   "metadata": {},
   "source": [
    "##### The features like land_area,road_acess,floor,bedroom,bathroom are screkwed so should be treated well."
   ]
  },
  {
   "cell_type": "markdown",
   "metadata": {},
   "source": [
    "#### POWER TRANSFORMATION"
   ]
  },
  {
   "cell_type": "code",
   "execution_count": 76,
   "metadata": {},
   "outputs": [],
   "source": [
    "pt=PowerTransformer(method='yeo-johnson')\n",
    "\n",
    "tranfrom_feature=[\"LAND AREA\",\"ROAD ACCESS\",\"FLOOR\",\"BEDROOM\",\"BATHROOM\"]\n",
    "\n",
    "X_pt=pt.fit_transform(X[tranfrom_feature])"
   ]
  },
  {
   "cell_type": "code",
   "execution_count": 77,
   "metadata": {},
   "outputs": [
    {
     "data": {
      "text/plain": [
       "LAND AREA     -0.291020\n",
       "ROAD ACCESS   -0.233819\n",
       "FLOOR          0.017315\n",
       "BEDROOM       -0.076051\n",
       "BATHROOM       0.064540\n",
       "dtype: float64"
      ]
     },
     "execution_count": 77,
     "metadata": {},
     "output_type": "execute_result"
    }
   ],
   "source": [
    "X_copy=pd.DataFrame(X_pt,columns=tranfrom_feature)\n",
    "X_copy.skew() "
   ]
  },
  {
   "cell_type": "code",
   "execution_count": 78,
   "metadata": {},
   "outputs": [
    {
     "data": {
      "text/plain": [
       "Text(0.5, 1.0, 'KDE plot of y after log_transf')"
      ]
     },
     "execution_count": 78,
     "metadata": {},
     "output_type": "execute_result"
    },
    {
     "data": {
      "image/png": "[encoded data removed]",
      "text/plain": [
       "<Figure size 1200x300 with 2 Axes>"
      ]
     },
     "metadata": {},
     "output_type": "display_data"
    }
   ],
   "source": [
    "y_log=np.log(y+1)\n",
    "\n",
    "fig,ax=plt.subplots(1,2,figsize=(12, 3))\n",
    "sns.kdeplot(data=y,ax=ax[0],color=\"blue\")\n",
    "ax[0].set_title('KDE plot of y without log_transf')\n",
    "\n",
    "sns.kdeplot(data=y_log,ax=ax[1],color=\"blue\")\n",
    "ax[1].set_title('KDE plot of y after log_transf')"
   ]
  },
  {
   "cell_type": "code",
   "execution_count": 79,
   "metadata": {},
   "outputs": [
    {
     "data": {
      "text/plain": [
       "<Axes: xlabel='FACING', ylabel='Count'>"
      ]
     },
     "execution_count": 79,
     "metadata": {},
     "output_type": "execute_result"
    },
    {
     "data": {
      "image/png": "[encoded data removed]",
      "text/plain": [
       "<Figure size 640x480 with 1 Axes>"
      ]
     },
     "metadata": {},
     "output_type": "display_data"
    }
   ],
   "source": [
    "sns.histplot(data=X['FACING'])"
   ]
  },
  {
   "cell_type": "code",
   "execution_count": 80,
   "metadata": {},
   "outputs": [],
   "source": [
    "from sklearn.preprocessing import MinMaxScaler\n",
    "oe=OrdinalEncoder()\n",
    "minmax=MinMaxScaler()\n",
    "\n",
    "X_facing=oe.fit_transform(X[[\"FACING\"]])\n",
    "\n",
    "\n",
    "X_facing_copy=pd.DataFrame(X_facing)"
   ]
  },
  {
   "cell_type": "code",
   "execution_count": 81,
   "metadata": {},
   "outputs": [],
   "source": [
    "#facing_maping=X[\"FACING\"].value_counts()\n",
    "#X['FACING_copy']=X[\"FACING\"].map(facing_maping)"
   ]
  },
  {
   "cell_type": "code",
   "execution_count": 82,
   "metadata": {},
   "outputs": [
    {
     "data": {
      "text/plain": [
       "Text(0.5, 1.0, 'Histplot of FACING with Maping Encoding')"
      ]
     },
     "execution_count": 82,
     "metadata": {},
     "output_type": "execute_result"
    },
    {
     "data": {
      "image/png": "[encoded data removed]",
      "text/plain": [
       "<Figure size 1200x300 with 2 Axes>"
      ]
     },
     "metadata": {},
     "output_type": "display_data"
    }
   ],
   "source": [
    "fig,ax=plt.subplots(1,2,figsize=(12, 3))\n",
    "sns.histplot(data=X['FACING'],ax=ax[0],color=\"blue\")\n",
    "ax[0].set_title('Histplot of FACING with Maping Encoding')\n",
    "\n",
    "#sns.histplot(data=StandardScaler().fit_transform(X[['FACING_copy']]),ax=ax[1],color=\"blue\")\n",
    "#ax[1].set_title('Histplot of FACING after Maping Encoder')"
   ]
  },
  {
   "cell_type": "code",
   "execution_count": 83,
   "metadata": {},
   "outputs": [
    {
     "data": {
      "text/plain": [
       "Text(0.5, 1.0, 'Histplot of FACING after OE')"
      ]
     },
     "execution_count": 83,
     "metadata": {},
     "output_type": "execute_result"
    },
    {
     "data": {
      "image/png": "[encoded data removed]",
      "text/plain": [
       "<Figure size 1200x300 with 2 Axes>"
      ]
     },
     "metadata": {},
     "output_type": "display_data"
    }
   ],
   "source": [
    "fig,ax=plt.subplots(1,2,figsize=(12, 3))\n",
    "sns.histplot(data=X['FACING'],ax=ax[0],color=\"blue\")\n",
    "ax[0].set_title('Histplot of FACING with out OE')\n",
    "\n",
    "sns.kdeplot(data=X_facing_copy,ax=ax[1],color=\"blue\")\n",
    "ax[1].set_title('Histplot of FACING after OE')"
   ]
  },
  {
   "cell_type": "code",
   "execution_count": 84,
   "metadata": {},
   "outputs": [
    {
     "data": {
      "text/plain": [
       "Text(0.5, 1.0, 'Histplot of FACING after OE')"
      ]
     },
     "execution_count": 84,
     "metadata": {},
     "output_type": "execute_result"
    },
    {
     "data": {
      "image/png": "[encoded data removed]",
      "text/plain": [
       "<Figure size 1200x300 with 2 Axes>"
      ]
     },
     "metadata": {},
     "output_type": "display_data"
    }
   ],
   "source": [
    "fig,ax=plt.subplots(1,2,figsize=(12, 3))\n",
    "sns.histplot(data=X['FACING'],ax=ax[0],color=\"blue\")\n",
    "ax[0].set_title('Histplot of FACING with out OE')\n",
    "\n",
    "sns.histplot(data=X_facing_copy,ax=ax[1],color=\"blue\")\n",
    "ax[1].set_title('Histplot of FACING after OE')\n",
    "\n"
   ]
  },
  {
   "cell_type": "code",
   "execution_count": 85,
   "metadata": {},
   "outputs": [],
   "source": [
    "#ocation_maping=X[\"LOCATION\"].value_counts()\n",
    "#X['LOCATION']=X[\"LOCATION\"].map(location_maping)"
   ]
  },
  {
   "cell_type": "markdown",
   "metadata": {},
   "source": [
    "### COLUMN TRANSFORMER"
   ]
  },
  {
   "cell_type": "code",
   "execution_count": 86,
   "metadata": {},
   "outputs": [
    {
     "data": {
      "text/plain": [
       "(['LOCATION', 'FACING', 'CITY'],\n",
       " ['PRICE',\n",
       "  'LAND AREA',\n",
       "  'ROAD ACCESS',\n",
       "  'FLOOR',\n",
       "  'BEDROOM',\n",
       "  'BATHROOM',\n",
       "  'PROPERTY AGE',\n",
       "  'Air Condition',\n",
       "  'AirCon',\n",
       "  'Amphitheatre',\n",
       "  'Attic',\n",
       "  'Backyard',\n",
       "  'Balcony',\n",
       "  'Basement',\n",
       "  'Bathroom',\n",
       "  'Bathtub',\n",
       "  'Bed Room',\n",
       "  'Boring Water',\n",
       "  'CC Camera',\n",
       "  'CCTV',\n",
       "  'Cafeteria',\n",
       "  'Closet',\n",
       "  'Deck',\n",
       "  'Dining Room',\n",
       "  'Drainage',\n",
       "  'Drinking Water',\n",
       "  'Earthquake Resistant',\n",
       "  'Family Room',\n",
       "  'Fencing',\n",
       "  'Fire Place',\n",
       "  'Fridge',\n",
       "  'Frontyard',\n",
       "  'Garage',\n",
       "  'Garden',\n",
       "  'Gazebo',\n",
       "  'Guest Room',\n",
       "  'Gym',\n",
       "  'Intercom',\n",
       "  'Internet',\n",
       "  'Iron',\n",
       "  'Jacuzzi',\n",
       "  'Kids Playground',\n",
       "  'Laundry Room',\n",
       "  'Lawn',\n",
       "  'Lift',\n",
       "  'Living Room',\n",
       "  'Maid Room',\n",
       "  'Maintenance',\n",
       "  'Marbel',\n",
       "  'Master Bedroom',\n",
       "  'MiCrowave',\n",
       "  'Microwave',\n",
       "  'Modular Kitchen',\n",
       "  'Pantry',\n",
       "  'Parking',\n",
       "  'Parquet',\n",
       "  'Playground',\n",
       "  'Power Backup',\n",
       "  'Power Backup Water',\n",
       "  'Prayer Room',\n",
       "  'Reserve Tank',\n",
       "  'Security Staff',\n",
       "  'Servant Quarter',\n",
       "  'Servent Quarter',\n",
       "  'Shutter',\n",
       "  'Sofa',\n",
       "  'Store Room',\n",
       "  'Swimming Pool',\n",
       "  'TV',\n",
       "  'TV Cable',\n",
       "  'Terrace',\n",
       "  'Washing Machine',\n",
       "  'Water Filter',\n",
       "  'Water Purifier',\n",
       "  'Water Supply',\n",
       "  'Water Tank',\n",
       "  'Water Well',\n",
       "  'Wifi'])"
      ]
     },
     "execution_count": 86,
     "metadata": {},
     "output_type": "execute_result"
    }
   ],
   "source": [
    "cat_features,num_features"
   ]
  },
  {
   "cell_type": "code",
   "execution_count": 87,
   "metadata": {},
   "outputs": [],
   "source": [
    "location_labels=X[\"LOCATION\"].value_counts().sort_values(ascending=False).head(5).index\n",
    "\n",
    "for label in location_labels:\n",
    "    X[label]=np.where(X[\"LOCATION\"]==label,1,0)\n",
    "\n",
    "#city_labels={\"kathmandu\":0,\"lalitpur\":-1,\"bhaktapur\":1}\n",
    "\n",
    "#X[\"CITY\"]=X['CITY'].map(city_labels)\n",
    "\n",
    "\n",
    "X[\"FACING\"]=OrdinalEncoder().fit_transform(X[[\"FACING\"]])\n",
    "X[\"CITY\"]=OrdinalEncoder().fit_transform(X[[\"CITY\"]])\n",
    "\n",
    "\n",
    "\n",
    "X=X.drop(columns=[\"LOCATION\"])\n",
    "\n"
   ]
  },
  {
   "cell_type": "code",
   "execution_count": 88,
   "metadata": {},
   "outputs": [
    {
     "data": {
      "text/plain": [
       "0       2.0\n",
       "1       2.0\n",
       "2       2.0\n",
       "3       2.0\n",
       "4       2.0\n",
       "       ... \n",
       "5563    1.0\n",
       "5564    1.0\n",
       "5565    1.0\n",
       "5566    1.0\n",
       "5567    1.0\n",
       "Name: CITY, Length: 5050, dtype: float64"
      ]
     },
     "execution_count": 88,
     "metadata": {},
     "output_type": "execute_result"
    }
   ],
   "source": [
    "X[\"CITY\"]"
   ]
  },
  {
   "cell_type": "code",
   "execution_count": 89,
   "metadata": {},
   "outputs": [
    {
     "data": {
      "text/plain": [
       "0.39353992891700723"
      ]
     },
     "execution_count": 89,
     "metadata": {},
     "output_type": "execute_result"
    }
   ],
   "source": [
    "X[\"CITY\"].skew()"
   ]
  },
  {
   "cell_type": "code",
   "execution_count": 90,
   "metadata": {},
   "outputs": [
    {
     "data": {
      "text/plain": [
       "<Axes: xlabel='CITY', ylabel='Density'>"
      ]
     },
     "execution_count": 90,
     "metadata": {},
     "output_type": "execute_result"
    },
    {
     "data": {
      "image/png": "[encoded data removed]",
      "text/plain": [
       "<Figure size 640x480 with 1 Axes>"
      ]
     },
     "metadata": {},
     "output_type": "display_data"
    }
   ],
   "source": [
    "sns.kdeplot(data=X[\"CITY\"])"
   ]
  },
  {
   "cell_type": "code",
   "execution_count": 91,
   "metadata": {},
   "outputs": [],
   "source": [
    "X[\"CITY\"]=MinMaxScaler().fit_transform(X[[\"CITY\"]])"
   ]
  },
  {
   "cell_type": "code",
   "execution_count": 92,
   "metadata": {},
   "outputs": [
    {
     "data": {
      "text/plain": [
       "<Axes: xlabel='CITY', ylabel='Density'>"
      ]
     },
     "execution_count": 92,
     "metadata": {},
     "output_type": "execute_result"
    },
    {
     "data": {
      "image/png": "[encoded data removed]",
      "text/plain": [
       "<Figure size 640x480 with 1 Axes>"
      ]
     },
     "metadata": {},
     "output_type": "display_data"
    }
   ],
   "source": [
    "sns.kdeplot(data=X[\"CITY\"])"
   ]
  },
  {
   "cell_type": "code",
   "execution_count": 93,
   "metadata": {},
   "outputs": [
    {
     "name": "stdout",
     "output_type": "stream",
     "text": [
      "Skewness after transformation: 0.39342302622283604\n"
     ]
    }
   ],
   "source": [
    "\n",
    "from scipy.stats import skew\n",
    "\n",
    "print(\"Skewness after transformation:\", skew(X[\"CITY\"]))\n"
   ]
  },
  {
   "cell_type": "code",
   "execution_count": 94,
   "metadata": {},
   "outputs": [
    {
     "data": {
      "text/plain": [
       "0       1.0\n",
       "1       1.0\n",
       "2       1.0\n",
       "3       1.0\n",
       "4       1.0\n",
       "       ... \n",
       "5563    0.5\n",
       "5564    0.5\n",
       "5565    0.5\n",
       "5566    0.5\n",
       "5567    0.5\n",
       "Name: CITY, Length: 5050, dtype: float64"
      ]
     },
     "execution_count": 94,
     "metadata": {},
     "output_type": "execute_result"
    }
   ],
   "source": [
    "X[\"CITY\"]"
   ]
  },
  {
   "cell_type": "code",
   "execution_count": 95,
   "metadata": {},
   "outputs": [
    {
     "data": {
      "text/plain": [
       "0.39353992891700723"
      ]
     },
     "execution_count": 95,
     "metadata": {},
     "output_type": "execute_result"
    }
   ],
   "source": [
    "from scipy.stats import skew\n",
    "\n",
    "X[\"CITY\"].skew()"
   ]
  },
  {
   "cell_type": "code",
   "execution_count": 96,
   "metadata": {},
   "outputs": [],
   "source": [
    "\n",
    "\n",
    "#location_maping=X[\"LOCATION\"].value_counts()\n",
    "#X['LOCATION']=X[\"LOCATION\"].map(location_maping)\n",
    "\n",
    "#X['LOCATION']=OrdinalEncoder().fit_transform(X[[\"LOCATION\"]])\n",
    "#X[\"FACING\"]=OrdinalEncoder().fit_transform(X[[\"FACING\"]])\n",
    "#X[\"CITY\"]=OrdinalEncoder().fit_transform(X[[\"CITY\"]])\n",
    "\n",
    "\n",
    "\n"
   ]
  },
  {
   "cell_type": "code",
   "execution_count": 97,
   "metadata": {},
   "outputs": [],
   "source": [
    "num_features.remove(\"PRICE\")"
   ]
  },
  {
   "cell_type": "code",
   "execution_count": 98,
   "metadata": {},
   "outputs": [],
   "source": [
    "X.columns=X.columns.astype(str)\n",
    "\n",
    "X=MinMaxScaler().fit_transform(X)\n",
    "\n",
    "\n",
    "\n",
    "\n",
    "#X[num_features]=PowerTransformer(method='yeo-johnson').fit_transform(X[num_features])\n",
    "#y=np.log(y+1)\n",
    "#X[cat_features]=StandardScaler().fit_transform(X[cat_features])"
   ]
  },
  {
   "cell_type": "code",
   "execution_count": 99,
   "metadata": {},
   "outputs": [
    {
     "data": {
      "text/plain": [
       "(5050, 84)"
      ]
     },
     "execution_count": 99,
     "metadata": {},
     "output_type": "execute_result"
    }
   ],
   "source": [
    "X.shape"
   ]
  },
  {
   "cell_type": "code",
   "execution_count": 100,
   "metadata": {},
   "outputs": [
    {
     "data": {
      "text/plain": [
       "0       29000000.0\n",
       "1       47500000.0\n",
       "2       19900000.0\n",
       "3       40000000.0\n",
       "4       33000000.0\n",
       "           ...    \n",
       "5563    26000000.0\n",
       "5564    30000000.0\n",
       "5565    16000000.0\n",
       "5566    35000000.0\n",
       "5567    48000000.0\n",
       "Name: PRICE, Length: 5050, dtype: float64"
      ]
     },
     "execution_count": 100,
     "metadata": {},
     "output_type": "execute_result"
    }
   ],
   "source": [
    "y"
   ]
  },
  {
   "cell_type": "code",
   "execution_count": 101,
   "metadata": {},
   "outputs": [],
   "source": [
    "###\n",
    "from sklearn.decomposition import PCA\n",
    "\n",
    "pca=PCA(n_components=10)\n",
    "\n",
    "X=pca.fit_transform(X)"
   ]
  },
  {
   "cell_type": "markdown",
   "metadata": {},
   "source": [
    "### TRAIN TEST SPLIT"
   ]
  },
  {
   "cell_type": "code",
   "execution_count": 102,
   "metadata": {},
   "outputs": [],
   "source": [
    "X_train,X_test,y_train,y_test=train_test_split(\n",
    "    X,y,test_size=0.2,random_state=43\n",
    ")"
   ]
  },
  {
   "cell_type": "code",
   "execution_count": 103,
   "metadata": {},
   "outputs": [
    {
     "name": "stdout",
     "output_type": "stream",
     "text": [
      "The mean_absolute_error of LinearRegression is: 16669225.139733959\n",
      "The root_mean_squared_error of LinearRegression is: 23442971.77025923\n",
      "The r2_score of LinearRegression is: 0.0647410811519914\n",
      "-----------------------------------------------------------------\n",
      "The mean_absolute_error of DecisionTreeRegressor is: 4504224.422442243\n",
      "The root_mean_squared_error of DecisionTreeRegressor is: 15545090.523504145\n",
      "The r2_score of DecisionTreeRegressor is: 0.5887621877500323\n",
      "-----------------------------------------------------------------\n"
     ]
    },
    {
     "name": "stdout",
     "output_type": "stream",
     "text": [
      "The mean_absolute_error of XGBRegressor is: 9052594.945544554\n",
      "The root_mean_squared_error of XGBRegressor is: 14863165.389749069\n",
      "The r2_score of XGBRegressor is: 0.6240508128917883\n",
      "-----------------------------------------------------------------\n",
      "The mean_absolute_error of Ridge is: 16670015.807392176\n",
      "The root_mean_squared_error of Ridge is: 23443220.404034838\n",
      "The r2_score of Ridge is: 0.0647212425247411\n",
      "-----------------------------------------------------------------\n",
      "The mean_absolute_error of Lasso is: 16669225.322433142\n",
      "The root_mean_squared_error of Lasso is: 23442971.795430236\n",
      "The r2_score of Lasso is: 0.06474107914359395\n",
      "-----------------------------------------------------------------\n",
      "The mean_absolute_error of ElasticNet is: 17307855.868551724\n",
      "The root_mean_squared_error of ElasticNet is: 24008940.619553342\n",
      "The r2_score of ElasticNet is: 0.019037232004414872\n",
      "-----------------------------------------------------------------\n",
      "[LightGBM] [Info] Auto-choosing col-wise multi-threading, the overhead of testing was 0.000307 seconds.\n",
      "You can set `force_col_wise=true` to remove the overhead.\n",
      "[LightGBM] [Info] Total Bins 2550\n",
      "[LightGBM] [Info] Number of data points in the train set: 4040, number of used features: 10\n",
      "[LightGBM] [Info] Start training from score 40675960.395545\n",
      "The mean_absolute_error of LGBMRegressor is: 13231784.755795438\n",
      "The root_mean_squared_error of LGBMRegressor is: 19252907.731196944\n",
      "The r2_score of LGBMRegressor is: 0.36918910116145953\n",
      "-----------------------------------------------------------------\n"
     ]
    },
    {
     "name": "stderr",
     "output_type": "stream",
     "text": [
      "d:\\Project\\nepalhousingproject\\newenv\\Lib\\site-packages\\sklearn\\utils\\deprecation.py:151: FutureWarning: 'force_all_finite' was renamed to 'ensure_all_finite' in 1.6 and will be removed in 1.8.\n",
      "  warnings.warn(\n",
      "d:\\Project\\nepalhousingproject\\newenv\\Lib\\site-packages\\sklearn\\utils\\deprecation.py:151: FutureWarning: 'force_all_finite' was renamed to 'ensure_all_finite' in 1.6 and will be removed in 1.8.\n",
      "  warnings.warn(\n"
     ]
    }
   ],
   "source": [
    "from xgboost import XGBRegressor\n",
    "from lightgbm import LGBMRegressor\n",
    "# Models to evaluate\n",
    "models = [\n",
    "    LinearRegression(),\n",
    "    DecisionTreeRegressor(),\n",
    "    XGBRegressor(),\n",
    "    Ridge(),\n",
    "    Lasso(),\n",
    "    ElasticNet(),\n",
    "    LGBMRegressor()\n",
    "\n",
    "\n",
    "]\n",
    "\n",
    "# Metrics to evaluate\n",
    "accuracy_metrics = [mean_absolute_error, root_mean_squared_error, r2_score]\n",
    "\n",
    "\n",
    "for model in models:\n",
    "    model.fit(X_train, y_train)\n",
    "    y_pred = model.predict(X_test)\n",
    "\n",
    "    for metric in accuracy_metrics:\n",
    "        score = metric(y_test, y_pred)\n",
    "        result = {\"model\":model.__class__.__name__,\"metric\":metric.__name__,\"score\":score}\n",
    "        print(f'The {metric.__name__} of {model.__class__.__name__} is: {score}')\n",
    "    print('-----------------------------------------------------------------')\n",
    "        \n",
    "\n"
   ]
  },
  {
   "cell_type": "markdown",
   "metadata": {},
   "source": [
    "#### FROM THE ABOVE MODEL TEST WE ARE PICKING 3 MODEL- DecisionTree , XGBoost ,LightGB"
   ]
  },
  {
   "cell_type": "code",
   "execution_count": 104,
   "metadata": {},
   "outputs": [],
   "source": [
    "from sklearn.model_selection import GridSearchCV"
   ]
  },
  {
   "cell_type": "markdown",
   "metadata": {},
   "source": [
    "#### Grid Search CV for Decisiion Tree Regressor"
   ]
  },
  {
   "cell_type": "code",
   "execution_count": 105,
   "metadata": {},
   "outputs": [
    {
     "name": "stdout",
     "output_type": "stream",
     "text": [
      "Best Parameters: {'criterion': 'absolute_error', 'max_depth': None, 'min_samples_leaf': 1, 'min_samples_split': 2}\n",
      "Best Score (MSE): 0.5084091036240641\n"
     ]
    }
   ],
   "source": [
    "#grid search cv\n",
    "\n",
    "param_grid = {\n",
    "    'max_depth': [1,2,3,4,5,10,20,15,None],\n",
    "    'min_samples_split': [2, 5, 10],\n",
    "    'min_samples_leaf': [1, 2, 4],\n",
    "    'criterion': ['squared_error', 'absolute_error', 'poisson','friedman_mse']\n",
    "}\n",
    "\n",
    "grid_search_decision_tree=GridSearchCV(estimator=DecisionTreeRegressor(),param_grid=param_grid,cv=8)\n",
    "\n",
    "grid_search_decision_tree.fit(X_train,y_train)\n",
    "\n",
    "print(\"Best Parameters:\", grid_search_decision_tree.best_params_)\n",
    "print(\"Best Score (MSE):\", grid_search_decision_tree.best_score_)\n"
   ]
  },
  {
   "cell_type": "markdown",
   "metadata": {},
   "source": [
    "#### Hyperparameter Tuning LIGHTGB"
   ]
  },
  {
   "cell_type": "code",
   "execution_count": null,
   "metadata": {},
   "outputs": [],
   "source": []
  },
  {
   "cell_type": "code",
   "execution_count": 106,
   "metadata": {},
   "outputs": [],
   "source": [
    "lgb = LGBMRegressor(random_state=42)\n",
    "\n",
    "# Define the parameter grid\n",
    "param_grid_lgb = {\n",
    "    'n_estimators': [100, 200, 300],\n",
    "    'learning_rate': [0.01, 0.05, 0.1],\n",
    "    'max_depth': [3, 5, 7],\n",
    "    'num_leaves': [20, 30, 50],\n",
    "    'min_child_samples': [10, 20, 30],\n",
    "    'subsample': [0.6, 0.8, 1.0],\n",
    "    'colsample_bytree': [0.6, 0.8, 1.0],\n",
    "    'reg_alpha': [0, 0.1, 0.5],\n",
    "    'reg_lambda': [0, 0.1, 0.5]\n",
    "}\n",
    "\n",
    "# Perform Grid Search\n",
    "#grid_search_lgb = GridSearchCV(estimator=lgb, param_grid=param_grid_lgb, cv=5, scoring='r2', verbose=1, n_jobs=-1)\n",
    "#grid_search_lgb.fit(X_train, y_train)\n",
    "\n",
    "# Best parameters and score\n",
    "#print(\"Best parameters for LightGBM:\", grid_search_lgb.best_params_)\n",
    "#print(\"Best R2 score for LightGBM:\", grid_search_lgb.best_score_)"
   ]
  },
  {
   "cell_type": "code",
   "execution_count": 107,
   "metadata": {},
   "outputs": [
    {
     "name": "stdout",
     "output_type": "stream",
     "text": [
      "Fitting 5 folds for each of 50 candidates, totalling 250 fits\n"
     ]
    },
    {
     "name": "stderr",
     "output_type": "stream",
     "text": [
      "d:\\Project\\nepalhousingproject\\newenv\\Lib\\site-packages\\sklearn\\utils\\_tags.py:354: FutureWarning: The LGBMRegressor or classes from which it inherits use `_get_tags` and `_more_tags`. Please define the `__sklearn_tags__` method, or inherit from `sklearn.base.BaseEstimator` and/or other appropriate mixins such as `sklearn.base.TransformerMixin`, `sklearn.base.ClassifierMixin`, `sklearn.base.RegressorMixin`, and `sklearn.base.OutlierMixin`. From scikit-learn 1.7, not defining `__sklearn_tags__` will raise an error.\n",
      "  warnings.warn(\n",
      "d:\\Project\\nepalhousingproject\\newenv\\Lib\\site-packages\\sklearn\\utils\\deprecation.py:151: FutureWarning: 'force_all_finite' was renamed to 'ensure_all_finite' in 1.6 and will be removed in 1.8.\n",
      "  warnings.warn(\n"
     ]
    },
    {
     "name": "stdout",
     "output_type": "stream",
     "text": [
      "[LightGBM] [Info] Auto-choosing col-wise multi-threading, the overhead of testing was 0.000530 seconds.\n",
      "You can set `force_col_wise=true` to remove the overhead.\n",
      "[LightGBM] [Info] Total Bins 2550\n",
      "[LightGBM] [Info] Number of data points in the train set: 4040, number of used features: 10\n",
      "[LightGBM] [Info] Start training from score 40675960.395545\n",
      "[LightGBM] [Warning] No further splits with positive gain, best gain: -inf\n",
      "[LightGBM] [Warning] No further splits with positive gain, best gain: -inf\n",
      "[LightGBM] [Warning] No further splits with positive gain, best gain: -inf\n",
      "[LightGBM] [Warning] No further splits with positive gain, best gain: -inf\n",
      "[LightGBM] [Warning] No further splits with positive gain, best gain: -inf\n",
      "[LightGBM] [Warning] No further splits with positive gain, best gain: -inf\n",
      "[LightGBM] [Warning] No further splits with positive gain, best gain: -inf\n",
      "[LightGBM] [Warning] No further splits with positive gain, best gain: -inf\n",
      "[LightGBM] [Warning] No further splits with positive gain, best gain: -inf\n",
      "[LightGBM] [Warning] No further splits with positive gain, best gain: -inf\n",
      "[LightGBM] [Warning] No further splits with positive gain, best gain: -inf\n",
      "[LightGBM] [Warning] No further splits with positive gain, best gain: -inf\n",
      "[LightGBM] [Warning] No further splits with positive gain, best gain: -inf\n",
      "[LightGBM] [Warning] No further splits with positive gain, best gain: -inf\n",
      "[LightGBM] [Warning] No further splits with positive gain, best gain: -inf\n",
      "[LightGBM] [Warning] No further splits with positive gain, best gain: -inf\n",
      "[LightGBM] [Warning] No further splits with positive gain, best gain: -inf\n",
      "[LightGBM] [Warning] No further splits with positive gain, best gain: -inf\n",
      "[LightGBM] [Warning] No further splits with positive gain, best gain: -inf\n",
      "[LightGBM] [Warning] No further splits with positive gain, best gain: -inf\n",
      "[LightGBM] [Warning] No further splits with positive gain, best gain: -inf\n",
      "[LightGBM] [Warning] No further splits with positive gain, best gain: -inf\n",
      "[LightGBM] [Warning] No further splits with positive gain, best gain: -inf\n",
      "[LightGBM] [Warning] No further splits with positive gain, best gain: -inf\n",
      "[LightGBM] [Warning] No further splits with positive gain, best gain: -inf\n",
      "[LightGBM] [Warning] No further splits with positive gain, best gain: -inf\n",
      "[LightGBM] [Warning] No further splits with positive gain, best gain: -inf\n",
      "[LightGBM] [Warning] No further splits with positive gain, best gain: -inf\n",
      "[LightGBM] [Warning] No further splits with positive gain, best gain: -inf\n",
      "[LightGBM] [Warning] No further splits with positive gain, best gain: -inf\n",
      "[LightGBM] [Warning] No further splits with positive gain, best gain: -inf\n",
      "[LightGBM] [Warning] No further splits with positive gain, best gain: -inf\n",
      "[LightGBM] [Warning] No further splits with positive gain, best gain: -inf\n",
      "[LightGBM] [Warning] No further splits with positive gain, best gain: -inf\n",
      "[LightGBM] [Warning] No further splits with positive gain, best gain: -inf\n",
      "[LightGBM] [Warning] No further splits with positive gain, best gain: -inf\n",
      "[LightGBM] [Warning] No further splits with positive gain, best gain: -inf\n",
      "[LightGBM] [Warning] No further splits with positive gain, best gain: -inf\n",
      "[LightGBM] [Warning] No further splits with positive gain, best gain: -inf\n",
      "[LightGBM] [Warning] No further splits with positive gain, best gain: -inf\n",
      "[LightGBM] [Warning] No further splits with positive gain, best gain: -inf\n",
      "[LightGBM] [Warning] No further splits with positive gain, best gain: -inf\n",
      "[LightGBM] [Warning] No further splits with positive gain, best gain: -inf\n",
      "[LightGBM] [Warning] No further splits with positive gain, best gain: -inf\n",
      "[LightGBM] [Warning] No further splits with positive gain, best gain: -inf\n",
      "[LightGBM] [Warning] No further splits with positive gain, best gain: -inf\n",
      "[LightGBM] [Warning] No further splits with positive gain, best gain: -inf\n",
      "[LightGBM] [Warning] No further splits with positive gain, best gain: -inf\n",
      "[LightGBM] [Warning] No further splits with positive gain, best gain: -inf\n",
      "[LightGBM] [Warning] No further splits with positive gain, best gain: -inf\n",
      "[LightGBM] [Warning] No further splits with positive gain, best gain: -inf\n",
      "[LightGBM] [Warning] No further splits with positive gain, best gain: -inf\n",
      "[LightGBM] [Warning] No further splits with positive gain, best gain: -inf\n",
      "[LightGBM] [Warning] No further splits with positive gain, best gain: -inf\n",
      "[LightGBM] [Warning] No further splits with positive gain, best gain: -inf\n",
      "[LightGBM] [Warning] No further splits with positive gain, best gain: -inf\n",
      "[LightGBM] [Warning] No further splits with positive gain, best gain: -inf\n",
      "[LightGBM] [Warning] No further splits with positive gain, best gain: -inf\n",
      "[LightGBM] [Warning] No further splits with positive gain, best gain: -inf\n",
      "[LightGBM] [Warning] No further splits with positive gain, best gain: -inf\n",
      "[LightGBM] [Warning] No further splits with positive gain, best gain: -inf\n",
      "[LightGBM] [Warning] No further splits with positive gain, best gain: -inf\n",
      "[LightGBM] [Warning] No further splits with positive gain, best gain: -inf\n",
      "[LightGBM] [Warning] No further splits with positive gain, best gain: -inf\n",
      "[LightGBM] [Warning] No further splits with positive gain, best gain: -inf\n",
      "[LightGBM] [Warning] No further splits with positive gain, best gain: -inf\n",
      "[LightGBM] [Warning] No further splits with positive gain, best gain: -inf\n",
      "[LightGBM] [Warning] No further splits with positive gain, best gain: -inf\n",
      "[LightGBM] [Warning] No further splits with positive gain, best gain: -inf\n",
      "[LightGBM] [Warning] No further splits with positive gain, best gain: -inf\n",
      "[LightGBM] [Warning] No further splits with positive gain, best gain: -inf\n",
      "[LightGBM] [Warning] No further splits with positive gain, best gain: -inf\n",
      "[LightGBM] [Warning] No further splits with positive gain, best gain: -inf\n",
      "[LightGBM] [Warning] No further splits with positive gain, best gain: -inf\n",
      "[LightGBM] [Warning] No further splits with positive gain, best gain: -inf\n",
      "[LightGBM] [Warning] No further splits with positive gain, best gain: -inf\n",
      "[LightGBM] [Warning] No further splits with positive gain, best gain: -inf\n",
      "[LightGBM] [Warning] No further splits with positive gain, best gain: -inf\n",
      "[LightGBM] [Warning] No further splits with positive gain, best gain: -inf\n",
      "[LightGBM] [Warning] No further splits with positive gain, best gain: -inf\n",
      "[LightGBM] [Warning] No further splits with positive gain, best gain: -inf\n",
      "[LightGBM] [Warning] No further splits with positive gain, best gain: -inf\n",
      "[LightGBM] [Warning] No further splits with positive gain, best gain: -inf\n",
      "[LightGBM] [Warning] No further splits with positive gain, best gain: -inf\n",
      "[LightGBM] [Warning] No further splits with positive gain, best gain: -inf\n",
      "[LightGBM] [Warning] No further splits with positive gain, best gain: -inf\n",
      "Best parameters for LightGBM: {'subsample': 1.0, 'reg_lambda': 0.5, 'reg_alpha': 0.5, 'num_leaves': 30, 'n_estimators': 300, 'min_child_samples': 10, 'max_depth': 7, 'learning_rate': 0.1, 'colsample_bytree': 0.8}\n",
      "Best R2 score for LightGBM: 0.4738841013133005\n"
     ]
    }
   ],
   "source": [
    "\n",
    "random_search_lgb = RandomizedSearchCV(estimator=lgb, param_distributions=param_grid_lgb, cv=5, scoring='r2', n_iter=50, random_state=43, verbose=1, n_jobs=-1)\n",
    "random_search_lgb.fit(X_train, y_train)\n",
    "\n",
    "print(\"Best parameters for LightGBM:\", random_search_lgb.best_params_)\n",
    "print(\"Best R2 score for LightGBM:\", random_search_lgb.best_score_)"
   ]
  },
  {
   "cell_type": "markdown",
   "metadata": {},
   "source": [
    "#### PARAMETER TUNINING XGBoost"
   ]
  }
 ],
 "metadata": {
  "kernelspec": {
   "display_name": "newenv",
   "language": "python",
   "name": "python3"
  },
  "language_info": {
   "codemirror_mode": {
    "name": "ipython",
    "version": 3
   },
   "file_extension": ".py",
   "mimetype": "text/x-python",
   "name": "python",
   "nbconvert_exporter": "python",
   "pygments_lexer": "ipython3",
   "version": "3.12.6"
  }
 },
 "nbformat": 4,
 "nbformat_minor": 2
}
